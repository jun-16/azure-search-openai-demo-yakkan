{
 "cells": [
  {
   "cell_type": "markdown",
   "id": "1dd55b42",
   "metadata": {},
   "source": [
    "# 武将カフェ検索＆予約プラグインデモ(LangChain)\n",
    "2つの異なるシステムを ChatGPT プラグインとして公開し、これを AI オーケストレーターである LangChain から呼ぶデモを構築します。「源範頼に関連するカフェ名を検索して、7/1の18時に予約に空きがあるか教えて。もし空いていたら予約しておいて。」という複数のタスク解決が必要なユーザーからの指示に回答できるようなシステムを構築します。\n",
    "\n",
    "![](./images/04_001.png)\n"
   ]
  },
  {
   "cell_type": "markdown",
   "id": "9ddfe1f2",
   "metadata": {},
   "source": [
    "# 事前準備\n",
    "この Python サンプルを実行するには、以下が必要です：\n",
    "\n",
    "- Azure OpenAI Service にアクセスできる承認済み Azure サブスクリプション\n",
    "- Azure OpenAI Service の接続とモデル情報\n",
    "  - OpenAI API キー\n",
    "  - OpenAI `gpt-35-turbo` もしくは `gpt-4` モデルのデプロイメント名\n",
    "  - OpenAI API バージョン\n",
    "- Python (この手順はバージョン 3.10.x でテストされています)\n",
    "\n",
    "<div class=\"alert alert-block alert-success\"><b>Note:</b> 高度な Reasoning を高精度に行うには GPT-4 のモデルを推奨します。</div>\n",
    "\n",
    "これらのデモには、Visual Studio Code と [Jupyter extension](https://marketplace.visualstudio.com/items?itemName=ms-toolsai.jupyter) を使用できます。"
   ]
  },
  {
   "cell_type": "markdown",
   "id": "a37f03fa",
   "metadata": {},
   "source": [
    "\n",
    "## セットアップ\n",
    "以下のプラグインを起動しておきます。\n",
    "- cafe-review-plugin\n",
    "- restaurant-reservation-plugin\n",
    "\n",
    "それぞれのプラグインディレクトリ `plugins/` に入って、以下を実行します。\n",
    "\n",
    "```bash\n",
    "pip install -r requirements.txt\n",
    "```\n",
    "\n",
    "ライブラリのインストールができたら、\n",
    "\n",
    "```bash\n",
    "python main.py\n",
    "```\n",
    "\n",
    "でサーバーを起動します。"
   ]
  },
  {
   "cell_type": "markdown",
   "id": "fc154f6f",
   "metadata": {},
   "source": [
    "## パッケージのインストール"
   ]
  },
  {
   "cell_type": "code",
   "execution_count": null,
   "id": "b1fbbc96",
   "metadata": {},
   "outputs": [],
   "source": [
    "!pip install openai[datalib]==1.3.9\n",
    "!pip install langchain==0.0.350"
   ]
  },
  {
   "cell_type": "code",
   "execution_count": null,
   "id": "0096761c",
   "metadata": {},
   "outputs": [],
   "source": [
    "import openai\n",
    "print(\"openai\", openai.__version__)\n",
    "import langchain\n",
    "print(\"langchain\", langchain.__version__)"
   ]
  },
  {
   "cell_type": "markdown",
   "id": "a7e3e436",
   "metadata": {},
   "source": [
    "## 必要なライブラリと環境変数のインポート"
   ]
  },
  {
   "cell_type": "code",
   "execution_count": null,
   "id": "e435760a",
   "metadata": {},
   "outputs": [],
   "source": [
    "# from langchain.chat_models import ChatOpenAI #If you use OpenAI's API\n",
    "from langchain.chat_models import AzureChatOpenAI\n",
    "from langchain.agents import load_tools, initialize_agent\n",
    "from langchain.agents import AgentType\n",
    "from langchain.tools import AIPluginTool\n",
    "from langchain.agents.mrkl import prompt\n",
    "\n",
    "from requests.exceptions import ConnectionError\n"
   ]
  },
  {
   "cell_type": "markdown",
   "id": "9087722c",
   "metadata": {},
   "source": [
    "## Azure OpenAI の設定"
   ]
  },
  {
   "cell_type": "code",
   "execution_count": null,
   "id": "b221c621",
   "metadata": {},
   "outputs": [],
   "source": [
    "AZURE_OPENAI_API_KEY = \"Your OpenAI API Key\"\n",
    "AZURE_OPENAI_ENDPOINT = \"https://<Your OpenAI Service>.openai.azure.com/\"\n",
    "AZURE_OPENAI_CHATGPT_DEPLOYMENT = \"chat\"  # 自動構築時のデフォルト設定}"
   ]
  },
  {
   "cell_type": "code",
   "execution_count": null,
   "id": "2cc7bfb9",
   "metadata": {},
   "outputs": [],
   "source": [
    "# If you use OpenAI's API\n",
    "#import os\n",
    "#os.environ[\"OPENAI_API_KEY\"] = \"<Your OpenAI KEY>\""
   ]
  },
  {
   "cell_type": "markdown",
   "id": "245cd4a8",
   "metadata": {},
   "source": [
    "# Tool のロード\n",
    "ChatGPT Plugin をロードするには、AIPluginTool に登録します。"
   ]
  },
  {
   "cell_type": "code",
   "execution_count": null,
   "id": "5a52e1ae",
   "metadata": {
    "scrolled": true
   },
   "outputs": [],
   "source": [
    "# If you use OpenAI's API\n",
    "# llm = ChatOpenAI(model_name=\"gpt-4-0613\", temperature=0)\n",
    "\n",
    "llm = AzureChatOpenAI(\n",
    "    azure_deployment=AZURE_OPENAI_CHATGPT_DEPLOYMENT,\n",
    "    api_version=\"2023-07-01-preview\",\n",
    "    azure_endpoint=AZURE_OPENAI_ENDPOINT,\n",
    "    openai_api_key=AZURE_OPENAI_API_KEY,\n",
    "    # azure_ad_token_provider=self.openai_ad_token,\n",
    "    temperature=0.0,\n",
    ")\n",
    "tools = load_tools([\"requests_all\"])\n",
    "plugin_urls = [\n",
    "    \"http://localhost:5005/.well-known/ai-plugin.json\",\n",
    "    \"http://localhost:5006/.well-known/ai-plugin.json\",\n",
    "]\n",
    "\n",
    "tools += [AIPluginTool.from_plugin_url(url) for url in plugin_urls]"
   ]
  },
  {
   "cell_type": "markdown",
   "id": "0fb48b23",
   "metadata": {},
   "source": [
    "# Agent の初期化\n",
    "\n",
    "Agent には `ZERO_SHOT_REACT_DESCRIPTION` を利用します。制約事項については SUFFIX を追加しています。\n"
   ]
  },
  {
   "cell_type": "code",
   "execution_count": null,
   "id": "7f531d6b",
   "metadata": {},
   "outputs": [],
   "source": [
    "SUFFIX = \"\"\"\n",
    "'Answer should be in Japanese. Use http instead of https for endpoint.\n",
    "If there is no year in the reservation, use the year 2023. \n",
    "\"\"\"\n",
    "\n",
    "# Responsible AI MetaPrompt\n",
    "# **IMPORTANT**\n",
    "# If a restaurant reservation is available, must check with the user before making a reservation if yes.'\n",
    "\n",
    "agent_chain = initialize_agent(\n",
    "    tools,\n",
    "    llm,\n",
    "    agent=AgentType.ZERO_SHOT_REACT_DESCRIPTION,\n",
    "    #agent=AgentType.OPENAI_FUNCTIONS,\n",
    "    verbose=True,\n",
    "    agent_kwargs=dict(suffix=SUFFIX + prompt.SUFFIX),\n",
    "    handle_parsing_errors=True,\n",
    "    max_iterations=5, # 最大試行回数\n",
    "    early_stopping_method=\"generate\",\n",
    ")"
   ]
  },
  {
   "cell_type": "markdown",
   "id": "0bc0978e",
   "metadata": {},
   "source": [
    "# 実行\n",
    "いつまで経っても答えに行きつかない場合、GPT-4 モデルを利用すると成功する確率が上がります。GPT-35-Turbo の場合は、システムメッセージを工夫すると改善される可能性があります。"
   ]
  },
  {
   "cell_type": "code",
   "execution_count": null,
   "id": "05529ad1",
   "metadata": {
    "scrolled": true
   },
   "outputs": [],
   "source": [
    "try:\n",
    "    result = agent_chain.run(\"源範頼に関連するカフェ名を検索して\")\n",
    "    print(result)\n",
    "except ConnectionError as e:\n",
    "    print(\"すみません、わかりません。(ConnectionError)\", e)\n",
    "except Exception as e:\n",
    "    print(\"すみません、わかりません。(Error)\", e)"
   ]
  },
  {
   "cell_type": "code",
   "execution_count": null,
   "id": "d0dde152",
   "metadata": {
    "scrolled": true
   },
   "outputs": [],
   "source": [
    "try:\n",
    "    result = agent_chain.run(\"源範頼に関連するカフェ名を検索して、7/1の18時に予約に空きがあるか教えて。もし空いていたら予約しておいて。\")\n",
    "    print(result)\n",
    "except ConnectionError as e:\n",
    "    print(\"すみません、わかりません。(ConnectionError)\", e)\n",
    "except Exception as e:\n",
    "    print(\"すみません、わかりません。(Error)\", e)\n"
   ]
  },
  {
   "cell_type": "code",
   "execution_count": null,
   "id": "dae11aa2",
   "metadata": {
    "scrolled": true
   },
   "outputs": [],
   "source": [
    "try:\n",
    "    result = agent_chain.run(\"カフェかば殿に7/1の18時に予約を取って。\")\n",
    "    print(result)\n",
    "except ConnectionError as e:\n",
    "    print(\"すみません、わかりません。(ConnectionError)\", e)\n",
    "except Exception as e:\n",
    "    print(\"すみません、わかりません。(Error)\", e)\n"
   ]
  }
 ],
 "metadata": {
  "kernelspec": {
   "display_name": "Python 3 (ipykernel)",
   "language": "python",
   "name": "python3"
  },
  "language_info": {
   "codemirror_mode": {
    "name": "ipython",
    "version": 3
   },
   "file_extension": ".py",
   "mimetype": "text/x-python",
   "name": "python",
   "nbconvert_exporter": "python",
   "pygments_lexer": "ipython3",
   "version": "3.10.13"
  }
 },
 "nbformat": 4,
 "nbformat_minor": 5
}
