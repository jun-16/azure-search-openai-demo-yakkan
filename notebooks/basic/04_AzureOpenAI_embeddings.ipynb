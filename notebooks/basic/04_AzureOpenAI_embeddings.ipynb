{
 "cells": [
  {
   "cell_type": "markdown",
   "id": "eb299f82-f4b1-4f85-9195-07724f6dd4cb",
   "metadata": {},
   "source": [
    "# Azure OpenAI Service Embeddings 基礎\n",
    "Embeddings とは、機械学習で使われる特別なデータの形式のことです。これは、テキストが持っている意味を密度の高い情報として表す方法です。各 Embeddings は浮動小数点数のベクトルであり、ベクトル空間内の 2 つの埋め込み間の距離は、元の形式の 2 つの入力間の意味的な類似性と相関します。このベクトルを使って、2 つのテキストがどれくらい似ているかを計算できます。"
   ]
  },
  {
   "cell_type": "markdown",
   "id": "38c68a5b",
   "metadata": {},
   "source": [
    "## 事前準備\n",
    "\n",
    "この Python サンプルを実行するには、以下が必要です：\n",
    "\n",
    "- Azure OpenAI Service にアクセスできる[承認済み](https://aka.ms/oai/access) Azure サブスクリプション\n",
    "- Azure OpenAI Service への Embeddings モデルのデプロイメント。\n",
    "- Azure OpenAI Service の接続とモデル情報\n",
    "  - OpenAI API キー\n",
    "  - OpenAI Embeddings モデルのデプロイメント名。デフォルトで `text-embedding-ada-002` を使用します。\n",
    "  - OpenAI API バージョン\n",
    "- Python (この手順はバージョン 3.10.x でテストされています)\n",
    "\n",
    "これらのデモには、Visual Studio Code と [Jupyter extension](https://marketplace.visualstudio.com/items?itemName=ms-toolsai.jupyter) を使用できます。\n"
   ]
  },
  {
   "cell_type": "markdown",
   "id": "1e7c8bef",
   "metadata": {},
   "source": [
    "## パッケージのインストール\n"
   ]
  },
  {
   "cell_type": "code",
   "execution_count": null,
   "id": "da1d9bbd-e2b9-451a-a872-56f19430d0e6",
   "metadata": {
    "scrolled": true
   },
   "outputs": [],
   "source": [
    "!pip install openai"
   ]
  },
  {
   "cell_type": "code",
   "execution_count": null,
   "id": "3c6ef945-8aa3-4538-8bf7-662c01bdf397",
   "metadata": {
    "scrolled": true
   },
   "outputs": [],
   "source": [
    "import openai\n",
    "openai.__version__"
   ]
  },
  {
   "cell_type": "markdown",
   "id": "524420cf",
   "metadata": {},
   "source": [
    "## 必要なライブラリと環境変数のインポート\n"
   ]
  },
  {
   "cell_type": "markdown",
   "id": "502b043a-044b-458e-9626-7c4cda992103",
   "metadata": {},
   "source": [
    "## Azure OpenAI の設定\n",
    "接続情報はセキュリティ面から直接記述するよりも、環境変数や [dotenv](https://pypi.org/project/python-dotenv/) からロードする方法をおすすめします。"
   ]
  },
  {
   "cell_type": "code",
   "execution_count": null,
   "id": "7daa9e2f-58ba-427d-9634-2d83bff3ff8e",
   "metadata": {},
   "outputs": [],
   "source": [
    "import os\n",
    "from dotenv import load_dotenv\n",
    "load_dotenv()\n",
    "\n",
    "#os.environ[\"AZURE_OPENAI_API_KEY\"] = \"Your OpenAI API Key\"\n",
    "#os.environ[\"AZURE_OPENAI_ENDPOINT\"] = \"https://<Your OpenAI Service>.openai.azure.com/\"\n",
    "\n",
    "#これは、モデルをデプロイしたときにデプロイメントに選んだカスタム名に対応します。\n",
    "AZURE_OPENAI_DEPLOYMENT_NAME = \"text-embedding-ada-002\""
   ]
  },
  {
   "cell_type": "markdown",
   "id": "3dafb36d",
   "metadata": {},
   "source": [
    "## ベクトル間の距離を計算する\n",
    "2 つのベクトルサンプル間のコサイン類似度を計算します。"
   ]
  },
  {
   "cell_type": "code",
   "execution_count": null,
   "id": "46a44770",
   "metadata": {},
   "outputs": [],
   "source": [
    "# 必要なライブラリをインストールします。\n",
    "#!pip install numpy matplotlib scikit-learn"
   ]
  },
  {
   "cell_type": "code",
   "execution_count": null,
   "id": "dd1c47be",
   "metadata": {},
   "outputs": [],
   "source": [
    "import numpy as np\n",
    "import matplotlib.pyplot as plt\n",
    "\n",
    "def calc_cosine_similarity(v1, v2):\n",
    "    dot_product = np.dot(v1, v2)\n",
    "    norm_v1 = np.linalg.norm(v1)\n",
    "    norm_v2 = np.linalg.norm(v2)\n",
    "    cos = dot_product / (norm_v1 * norm_v2)\n",
    "    return cos\n",
    "\n",
    "v1 = np.array([1, 0])\n",
    "v2 = np.array([1, 1])\n",
    "\n",
    "cosine_similarity = calc_cosine_similarity(v1, v2)\n",
    "\n",
    "print(\"コサイン類似度:\", cosine_similarity)\n",
    "print(\"コサイン距離:\", 1 - cosine_similarity)"
   ]
  },
  {
   "cell_type": "code",
   "execution_count": null,
   "id": "8e3a5106",
   "metadata": {},
   "outputs": [],
   "source": [
    "def plot_vectors(vectors, labels):\n",
    "    \"\"\"\n",
    "    指定されたベクトルを2次元グラフにプロットし、ラベルを表示する関数。\n",
    "    \n",
    "    Parameters:\n",
    "    vectors (list of numpy.ndarray): プロットするベクトルのリスト。\n",
    "    labels (list of str): ベクトルに対応するラベルのリスト。\n",
    "    \"\"\"\n",
    "    # グラフの設定\n",
    "    plt.figure()\n",
    "    colors = ['b', 'r', 'g', 'c', 'm', 'y']  # ベクトルごとに異なる色を使用\n",
    "    for i, vector in enumerate(vectors):\n",
    "        plt.quiver(0, 0, vector[0], vector[1], angles='xy', scale_units='xy', scale=1, color=colors[i], label=labels[i])\n",
    "        plt.text(vector[0] + 0.1, vector[1] + 0.1, f'{labels[i]} ({vector[0]}, {vector[1]})', color=colors[i], fontsize=12)\n",
    "\n",
    "    # グラフの設定（正方形に調整）\n",
    "    plt.axis(\"square\")\n",
    "\n",
    "    # グラフの設定（ラベル、軸の範囲など）\n",
    "    plt.xlim(-2, 2)\n",
    "    plt.ylim(-2, 2)\n",
    "    plt.xlabel('X')\n",
    "    plt.ylabel('Y')\n",
    "    plt.axhline(0, color='black',linewidth=0.5)\n",
    "    plt.axvline(0, color='black',linewidth=0.5)\n",
    "    plt.grid(color = 'gray', linestyle = '--', linewidth = 0.5)\n",
    "    plt.legend()\n",
    "\n",
    "    # グラフの表示\n",
    "    plt.show()"
   ]
  },
  {
   "cell_type": "code",
   "execution_count": null,
   "id": "fb7a77f8",
   "metadata": {},
   "outputs": [],
   "source": [
    "# ベクトルの定義\n",
    "v1 = np.array([1, 0])\n",
    "v2 = np.array([1, 1])\n",
    "\n",
    "# ベクトルのラベル\n",
    "labels = ['v1', 'v2']\n",
    "\n",
    "# 関数を呼び出してプロット\n",
    "plot_vectors([v1, v2], labels)"
   ]
  },
  {
   "cell_type": "markdown",
   "id": "774762f7",
   "metadata": {},
   "source": [
    "## Embeddings API の使用\n",
    "\n",
    "テキストを Embeddings モデルに渡すと、テキストは一連の浮動小数点数に変換されます。これらの Embeddings の値は、ローカルに保存するか、Azure のデータストアに保存してベクトル検索をスケールできます。"
   ]
  },
  {
   "cell_type": "code",
   "execution_count": null,
   "id": "e64ce810",
   "metadata": {},
   "outputs": [],
   "source": [
    "from openai import AzureOpenAI\n",
    "\n",
    "client = AzureOpenAI(\n",
    "  api_key=os.getenv(\"AZURE_OPENAI_API_KEY\"),\n",
    "  api_version=\"2023-05-15\",\n",
    "  azure_endpoint=os.getenv(\"AZURE_OPENAI_ENDPOINT\"),\n",
    ")\n",
    "\n",
    "def generate_embeddings(text, model=AZURE_OPENAI_DEPLOYMENT_NAME): # model = \"deployment_name\"\n",
    "    return client.embeddings.create(input = [text], model=model).data[0].embedding\n"
   ]
  },
  {
   "cell_type": "code",
   "execution_count": null,
   "id": "4d0aa063",
   "metadata": {},
   "outputs": [],
   "source": [
    "text_1 = \"私はノルウェージャンフォレストキャットという猫が好きです。\"\n",
    "text_2 = \"私はスコティッシュフォールドという猫が好きです。\"\n",
    "\n",
    "embeddings_1 = generate_embeddings(text_1)\n",
    "embeddings_2 = generate_embeddings(text_2)\n",
    "\n",
    "embeddings_1"
   ]
  },
  {
   "cell_type": "markdown",
   "id": "abda37fc",
   "metadata": {},
   "source": [
    "### 2つのベクトル間のコサイン類似度を計算\n",
    "コサイン類似度が 1 に近づくほど意味的に近くなります。"
   ]
  },
  {
   "cell_type": "code",
   "execution_count": null,
   "id": "8df00400",
   "metadata": {},
   "outputs": [],
   "source": [
    "print(calc_cosine_similarity(embeddings_1, embeddings_2))"
   ]
  },
  {
   "cell_type": "code",
   "execution_count": null,
   "metadata": {},
   "outputs": [],
   "source": [
    "print(calc_cosine_similarity(embeddings_1, embeddings_1))"
   ]
  },
  {
   "cell_type": "code",
   "execution_count": null,
   "id": "7a062950",
   "metadata": {},
   "outputs": [],
   "source": [
    "text_3 = \"私はトイプードルが好きです。\"\n",
    "\n",
    "embeddings_3 = generate_embeddings(text_3)\n",
    "print(calc_cosine_similarity(embeddings_1, embeddings_3))"
   ]
  },
  {
   "cell_type": "code",
   "execution_count": null,
   "id": "7905ddc0",
   "metadata": {},
   "outputs": [],
   "source": [
    "text_4 = \"私は Azure AI Search を使用して RAG システムを構築します。\"\n",
    "\n",
    "embeddings_4 = generate_embeddings(text_4)\n",
    "print(calc_cosine_similarity(embeddings_3, embeddings_4))"
   ]
  },
  {
   "cell_type": "markdown",
   "id": "04c2cab8",
   "metadata": {},
   "source": [
    "## K-means を使ってクラスタを見つける\n",
    "K-means の最も単純な使い方を試します。クラスタリングは、データ内の貴重な隠れたグループを発見するのに役立ちます。"
   ]
  },
  {
   "cell_type": "code",
   "execution_count": null,
   "id": "4f2bc880",
   "metadata": {},
   "outputs": [],
   "source": [
    "from sklearn.cluster import KMeans\n",
    "# K-Meansクラスタリングの実行\n",
    "# クラスタ数は例として3に設定します。実際のデータに応じて適宜変更してください。\n",
    "kmeans = KMeans(n_clusters=3, random_state=0)\n",
    "data = np.array([embeddings_1, embeddings_2, embeddings_3, embeddings_4])\n",
    "clusters = kmeans.fit_predict(data)\n",
    "clusters"
   ]
  },
  {
   "cell_type": "markdown",
   "id": "d11857f5",
   "metadata": {},
   "source": [
    "### Embeddings の可視化（クラスタリング）\n",
    "1,536 次元のベクトルを持つデータを 2 次元座標上に投影させる場合、次元削減が便利です。ただし、サンプル数が非常に少ない（この場合は4つ）ため、限定的な結果しか提供しないことに注意が必要です。下記リンクを参考にサンプル数を増やしてからデータの全体像を把握してください。"
   ]
  },
  {
   "cell_type": "code",
   "execution_count": null,
   "id": "d4d7aaf7",
   "metadata": {},
   "outputs": [],
   "source": [
    "from sklearn.decomposition import PCA\n",
    "\n",
    "def plot_pca_2d(data, labels, clusters):\n",
    "    \"\"\"\n",
    "    2次元のPCAを使用してデータをプロットする関数。\n",
    "    \n",
    "    :param data: 2次元に削減する高次元データ（numpy配列）\n",
    "    :param labels: 各データポイントに対応するラベルのリスト\n",
    "    :param clusters: 各データポイントのクラスタ割り当て（整数の配列）\n",
    "    \"\"\"\n",
    "    if len(data) != len(labels):\n",
    "        raise ValueError(\"データポイントの数とラベルの数が一致しません。\")\n",
    "\n",
    "    # PCAで2次元に削減\n",
    "    pca = PCA(n_components=2)\n",
    "    reduced_data = pca.fit_transform(data)\n",
    "\n",
    "    # 結果の可視化（クラスタに基づく色分け）\n",
    "    plt.scatter(reduced_data[:, 0], reduced_data[:, 1], c=clusters)\n",
    "    for i, (x, y) in enumerate(reduced_data):\n",
    "        plt.text(x, y, labels[i], fontsize=9)\n",
    "\n",
    "    plt.xlabel('x')\n",
    "    plt.ylabel('y')\n",
    "    plt.title('2D PCA Visualization with Clusters')\n",
    "    plt.show()"
   ]
  },
  {
   "cell_type": "code",
   "execution_count": null,
   "id": "5d40ec86",
   "metadata": {},
   "outputs": [],
   "source": [
    "data = np.array([embeddings_1, embeddings_2, embeddings_3, embeddings_4])\n",
    "labels = ['Norwegian Forest', 'Scottish Fold', 'Poodle', 'Azure AI Search']\n",
    "plot_pca_2d(data, labels, clusters)"
   ]
  },
  {
   "cell_type": "markdown",
   "id": "0f9cc1c7",
   "metadata": {},
   "source": [
    "大量のデータセットを用いた Embeddings 変換やベクトル検索は [Docs](https://learn.microsoft.com/azure/ai-services/openai/tutorials/embeddings?tabs=python-new%2Ccommand-line&pivots=programming-language-python) や [00_DataIngest_AzureAISearch_PythonSDK.ipynb](../00_DataIngest_AzureAISearch_PythonSDK.ipynb) を参照してください。"
   ]
  }
 ],
 "metadata": {
  "kernelspec": {
   "display_name": "Python 3 (ipykernel)",
   "language": "python",
   "name": "python3"
  },
  "language_info": {
   "codemirror_mode": {
    "name": "ipython",
    "version": 3
   },
   "file_extension": ".py",
   "mimetype": "text/x-python",
   "name": "python",
   "nbconvert_exporter": "python",
   "pygments_lexer": "ipython3",
   "version": "3.10.13"
  }
 },
 "nbformat": 4,
 "nbformat_minor": 5
}
