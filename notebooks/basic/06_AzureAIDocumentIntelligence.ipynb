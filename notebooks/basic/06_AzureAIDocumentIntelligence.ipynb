{
 "cells": [
  {
   "cell_type": "markdown",
   "id": "eb299f82-f4b1-4f85-9195-07724f6dd4cb",
   "metadata": {},
   "source": [
    "# Azure AI Document Intelligence 基礎\n",
    "Azure AI Document Intelligence は、機械学習モデルを使用してドキュメントからキーと値のペア、テキスト、テーブルを抽出するクラウドベースの Azure AI サービスです。本ノートブックでは、[レイアウトモデル](https://learn.microsoft.com/azure/ai-services/document-intelligence/concept-layout) `prebuilt-layout` を使用して PDF からデータを抽出します。最新の API バージョンでは、マークダウンでの出力もサポートされるようになりました。\n",
    "\n",
    "https://learn.microsoft.com/azure/ai-services/document-intelligence/concept-layout\n"
   ]
  },
  {
   "cell_type": "markdown",
   "id": "38c68a5b",
   "metadata": {},
   "source": [
    "# 事前準備\n",
    "この Python サンプルを実行するには、以下が必要です：\n",
    "- [Azure AI Document Intelligence リソース](https://learn.microsoft.com/azure/ai-services/document-intelligence/create-document-intelligence-resource)。エンドポイントとキーが必要です。\n",
    "- [Python](https://www.python.org/downloads/release/python-31011/) (この手順はバージョン 3.10.x でテストされています)\n",
    "\n",
    "これらのデモには、[Visual Studio Code](https://code.visualstudio.com/download) と [Jupyter extension](https://marketplace.visualstudio.com/items?itemName=ms-toolsai.jupyter) を使用できます。"
   ]
  },
  {
   "cell_type": "markdown",
   "id": "1e7c8bef",
   "metadata": {},
   "source": [
    "## パッケージのインストール"
   ]
  },
  {
   "cell_type": "code",
   "execution_count": null,
   "id": "da1d9bbd-e2b9-451a-a872-56f19430d0e6",
   "metadata": {
    "scrolled": true
   },
   "outputs": [],
   "source": [
    "\n",
    "!pip install azure-identity==1.15.0\n",
    "!pip install azure-ai-formrecognizer==3.3.2\n",
    "!pip install jsonpickle"
   ]
  },
  {
   "cell_type": "code",
   "execution_count": null,
   "id": "3c6ef945-8aa3-4538-8bf7-662c01bdf397",
   "metadata": {
    "scrolled": true
   },
   "outputs": [],
   "source": [
    "import azure.ai.formrecognizer\n",
    "print(\"azure.ai.formrecognizer\", azure.ai.formrecognizer.__VERSION__)"
   ]
  },
  {
   "cell_type": "markdown",
   "id": "524420cf",
   "metadata": {},
   "source": [
    "## 必要なライブラリと環境変数のインポート"
   ]
  },
  {
   "cell_type": "code",
   "execution_count": null,
   "id": "94c62e8d-9891-4fde-a989-9bb040e1558f",
   "metadata": {},
   "outputs": [],
   "source": [
    "from azure.core.credentials import AzureKeyCredential"
   ]
  },
  {
   "cell_type": "markdown",
   "id": "8c014e02",
   "metadata": {},
   "source": [
    "## 接続設定"
   ]
  },
  {
   "cell_type": "code",
   "execution_count": null,
   "id": "77742973",
   "metadata": {},
   "outputs": [],
   "source": [
    "# Azure AI Document Intelligence\n",
    "document_intelligence_key: str = \"<Your document intelligence key>\"\n",
    "document_intelligence_endpoint: str = \"<Your document intelligence endpoint>\"\n",
    "document_intelligence_creds: str = AzureKeyCredential(document_intelligence_key)"
   ]
  },
  {
   "cell_type": "markdown",
   "id": "17044ffb",
   "metadata": {},
   "source": [
    "# PDF から構造を抽出\n",
    "PDF の OCR に用いる[レイアウトモデル](https://learn.microsoft.com/azure/ai-services/document-intelligence/concept-layout) `prebuilt-layout` は、高度な機械学習ベースのドキュメント分析 API です。これを使用すると、さまざまな形式のドキュメントを受け取り、ドキュメントの構造化されたデータ表現を返すことができます。これは、Microsoft の強力な光学式文字認識 (OCR) 機能の強化バージョンと、ディープラーニング モデルを組み合わせ、テキスト、テーブル、選択マーク、ドキュメント構造を抽出します。"
   ]
  },
  {
   "cell_type": "code",
   "execution_count": null,
   "id": "2a0b8683",
   "metadata": {},
   "outputs": [],
   "source": [
    "from azure.ai.formrecognizer import DocumentAnalysisClient\n",
    "import jsonpickle\n",
    "\n",
    "# formatting function\n",
    "def format_polygon(polygon):\n",
    "    if not polygon:\n",
    "        return \"N/A\"\n",
    "    return \", \".join([\"[{}, {}]\".format(p.x, p.y) for p in polygon])\n",
    "\n",
    "document_analysis_client = DocumentAnalysisClient(\n",
    "    endpoint=document_intelligence_endpoint, credential=document_intelligence_creds\n",
    ")\n",
    "\n",
    "# URL からの解析の場合\n",
    "# poller = document_analysis_client.begin_analyze_document_from_url(\"prebuilt-layout\", formUrl)\n",
    "\n",
    "# sample document\n",
    "filename = \"../../data/源実朝 - Wikipedia.pdf\"\n",
    "\n",
    "with open(filename, \"rb\") as f:\n",
    "    poller = document_analysis_client.begin_analyze_document(\"prebuilt-layout\", document = f)\n",
    "\n",
    "result = poller.result()"
   ]
  },
  {
   "cell_type": "markdown",
   "id": "be4c58b8",
   "metadata": {},
   "source": [
    "### Debug用コード\n",
    "\n",
    "[jsonpickle](https://pypi.org/project/jsonpickle/) ライブラリを使用すると `AnalyzeResult` オブジェクト構造をそのまま JSON へ保存できます。Document Intelligence の分析データを一旦自分の手元に置いて細かく調べたい時に有用です。"
   ]
  },
  {
   "cell_type": "code",
   "execution_count": null,
   "id": "28ba4fc0",
   "metadata": {},
   "outputs": [],
   "source": [
    "# Debug 用(AnalyzeResultオブジェクト構造をそのままJSONへ)\n",
    "json_data = jsonpickle.encode(result)\n",
    "with open('analyzed_data.json', \"w\", encoding='utf-8') as f:\n",
    "    f.write(json_data)\n",
    "\n",
    "# JSON からオブジェクト構造を復元\n",
    "# f = open(\"analyzed_data.json\")\n",
    "# json_str = f.read()\n",
    "# result = jsonpickle.decode(json_str)"
   ]
  },
  {
   "cell_type": "markdown",
   "id": "234b0f16",
   "metadata": {},
   "source": [
    "## テキスト行の手書きスタイル\n",
    "応答では、各テキスト行が手書きスタイルであるかどうかと、信頼度スコアが分類されます。\n"
   ]
  },
  {
   "cell_type": "code",
   "execution_count": null,
   "id": "e753b73e",
   "metadata": {},
   "outputs": [],
   "source": [
    "for idx, style in enumerate(result.styles):\n",
    "    print(\n",
    "        \"Document contains {} content\".format(\n",
    "            \"handwritten\" if style.is_handwritten else \"no handwritten\"\n",
    "        )\n",
    "    )"
   ]
  },
  {
   "cell_type": "markdown",
   "id": "c3a07542",
   "metadata": {},
   "source": [
    "## ページ\n",
    "ページ コレクションは、サービス応答に表示される最初のオブジェクトです。レイアウトモデルでは、印刷および手書きのスタイルテキストが `lines` および `words` として抽出されます。このモデルでは、抽出された単語の境界 `polygon` 座標と `confidence` を出力します。\n",
    "\n",
    "### 選択マーク\n",
    "ドキュメントから選択マークも抽出されます。抽出された選択マークは、各ページの `pages` コレクション内に示されます。これには、境界 `polygon`、`confidence`、および選択 `state` (`selected/unselected`) が含まれます。関連するテキスト (抽出された場合) も、開始インデックス (`offset`) と `length` として含まれます。`length` はドキュメントのテキスト全体を含む最上位の `content` プロパティを参照します。"
   ]
  },
  {
   "cell_type": "code",
   "execution_count": null,
   "id": "44bb2db5",
   "metadata": {},
   "outputs": [],
   "source": [
    "for page in result.pages:\n",
    "    print(\"----Analyzing layout from page #{}----\".format(page.page_number))\n",
    "    print(\n",
    "        \"Page has width: {} and height: {}, measured with unit: {}\".format(\n",
    "            page.width, page.height, page.unit\n",
    "        )\n",
    "    )\n",
    "\n",
    "    for line_idx, line in enumerate(page.lines):\n",
    "        words = line.get_words()\n",
    "        print(\n",
    "            \"...Line # {} has word count {} and text '{}' within bounding polygon '{}'\".format(\n",
    "                line_idx,\n",
    "                len(words),\n",
    "                line.content,\n",
    "                format_polygon(line.polygon),\n",
    "            )\n",
    "        )\n",
    "\n",
    "        for word in words:\n",
    "            print(\n",
    "                \"......Word '{}' has a confidence of {}\".format(\n",
    "                    word.content, word.confidence\n",
    "                )\n",
    "            )\n",
    "\n",
    "    for selection_mark in page.selection_marks:\n",
    "        print(\n",
    "            \"...Selection mark is '{}' within bounding polygon '{}' and has a confidence of {}\".format(\n",
    "                selection_mark.state,\n",
    "                format_polygon(selection_mark.polygon),\n",
    "                selection_mark.confidence,\n",
    "            )\n",
    "        )"
   ]
  },
  {
   "cell_type": "markdown",
   "id": "77a7be3a",
   "metadata": {},
   "source": [
    "## テーブル\n",
    "レイアウトモデルでは、JSON 出力の `pageResults` セクションにテーブルが抽出されます。抽出されるテーブル情報には、列と行の数、行の範囲、列の範囲が含まれます。境界ポリゴンのある各セルは、その領域が `columnHeader` として認識されているかどうかにかかわらず、情報と共に出力されます。このモデルでは、回転されるテーブルの抽出がサポートされています。各テーブル セルには、行と列のインデックスと境界ポリゴン座標が含まれています。セル テキストの場合、このモデルは開始インデックス (`offset`) を含む `span` 情報を出力します。"
   ]
  },
  {
   "cell_type": "code",
   "execution_count": null,
   "id": "5c816022",
   "metadata": {},
   "outputs": [],
   "source": [
    "for table_idx, table in enumerate(result.tables):\n",
    "    print(\n",
    "        \"Table # {} has {} rows and {} columns\".format(\n",
    "            table_idx, table.row_count, table.column_count\n",
    "        )\n",
    "    )\n",
    "    for region in table.bounding_regions:\n",
    "        print(\n",
    "            \"Table # {} location on page: {} is {}\".format(\n",
    "                table_idx,\n",
    "                region.page_number,\n",
    "                format_polygon(region.polygon),\n",
    "            )\n",
    "        )\n",
    "    for cell in table.cells:\n",
    "        print(\n",
    "            \"...Cell[{}][{}] has content '{}'\".format(\n",
    "                cell.row_index,\n",
    "                cell.column_index,\n",
    "                cell.content,\n",
    "            )\n",
    "        )\n",
    "        for region in cell.bounding_regions:\n",
    "            print(\n",
    "                \"...content on page {} is within bounding polygon '{}'\".format(\n",
    "                    region.page_number,\n",
    "                    format_polygon(region.polygon),\n",
    "                )\n",
    "            )"
   ]
  },
  {
   "cell_type": "markdown",
   "id": "bcf85173",
   "metadata": {},
   "source": [
    "## 段落\n",
    "レイアウト モデルは、`analyzeResults` の最上位オブジェクトとして、`paragraphs` コレクション内の識別されたテキスト ブロックすべてを抽出します。このコレクション内の各エントリはテキスト ブロックを表し、抽出されたテキスト (`content`) と境界 `polygon` 座標を含みます。`span` 情報は、ドキュメントのテキスト全体を含む最上位 `content` プロパティ内のテキストフラグメントを指します。"
   ]
  },
  {
   "cell_type": "code",
   "execution_count": null,
   "id": "9835b0da",
   "metadata": {},
   "outputs": [],
   "source": [
    "for paragraph_idx, paragraph in enumerate(result.paragraphs):\n",
    "    print(\n",
    "        \"`Paragraph #{}: {}\".format(\n",
    "            paragraph_idx, paragraph.content\n",
    "        )\n",
    "    )"
   ]
  }
 ],
 "metadata": {
  "kernelspec": {
   "display_name": "Python 3 (ipykernel)",
   "language": "python",
   "name": "python3"
  },
  "language_info": {
   "codemirror_mode": {
    "name": "ipython",
    "version": 3
   },
   "file_extension": ".py",
   "mimetype": "text/x-python",
   "name": "python",
   "nbconvert_exporter": "python",
   "pygments_lexer": "ipython3",
   "version": "3.10.13"
  }
 },
 "nbformat": 4,
 "nbformat_minor": 5
}
