{
 "cells": [
  {
   "cell_type": "markdown",
   "id": "eb299f82-f4b1-4f85-9195-07724f6dd4cb",
   "metadata": {},
   "source": [
    "# Azure OpenAI Service Function Calling 基礎\n",
    "Azure OpenAI Service では Function Calling（関数呼び出し） の機能が利用可能です。これにより、ユーザーからの質問や指示をプログラムの関数と接続することが容易になります。Function Calling に対応するモデルは、事前に定義された関数に基づいて、インテリジェントに呼び出すべき関数を作成し、データ出力を構造化します。ChatGPT プラグインなどの外部 APIを呼び出して質問に答えるアシスタントを作成することもできます。\n",
    "\n",
    "https://learn.microsoft.com/azure/ai-services/openai/how-to/function-calling?tabs=python"
   ]
  },
  {
   "cell_type": "markdown",
   "id": "38c68a5b",
   "metadata": {},
   "source": [
    "## 事前準備\n",
    "\n",
    "この Python サンプルを実行するには、以下が必要です：\n",
    "\n",
    "- Azure OpenAI Service にアクセスできる[承認済み](https://aka.ms/oai/access) Azure サブスクリプション\n",
    "- Azure OpenAI Service への GPT-3.5 Turbo / GPT-4 モデルのデプロイメント。\n",
    "- Azure OpenAI Service の接続とモデル情報\n",
    "  - OpenAI API キー\n",
    "  - OpenAI GPT-3.5 Turbo / GPT-4 モデルのデプロイメント名\n",
    "  - OpenAI API バージョン\n",
    "- Python (この手順はバージョン 3.10.x でテストされています)\n",
    "\n",
    "これらのデモには、Visual Studio Code と [Jupyter extension](https://marketplace.visualstudio.com/items?itemName=ms-toolsai.jupyter) を使用できます。\n"
   ]
  },
  {
   "cell_type": "markdown",
   "id": "1e7c8bef",
   "metadata": {},
   "source": [
    "## パッケージのインストール\n"
   ]
  },
  {
   "cell_type": "code",
   "execution_count": null,
   "id": "da1d9bbd-e2b9-451a-a872-56f19430d0e6",
   "metadata": {
    "scrolled": true
   },
   "outputs": [],
   "source": [
    "!pip install openai"
   ]
  },
  {
   "cell_type": "code",
   "execution_count": null,
   "id": "3c6ef945-8aa3-4538-8bf7-662c01bdf397",
   "metadata": {
    "scrolled": true
   },
   "outputs": [],
   "source": [
    "import openai\n",
    "openai.__version__"
   ]
  },
  {
   "cell_type": "markdown",
   "id": "524420cf",
   "metadata": {},
   "source": [
    "## 必要なライブラリと環境変数のインポート\n"
   ]
  },
  {
   "cell_type": "markdown",
   "id": "502b043a-044b-458e-9626-7c4cda992103",
   "metadata": {},
   "source": [
    "## Azure OpenAI の設定\n",
    "接続情報はセキュリティ面から直接記述するよりも、環境変数や [dotenv](https://pypi.org/project/python-dotenv/) からロードする方法をおすすめします。"
   ]
  },
  {
   "cell_type": "code",
   "execution_count": null,
   "id": "7daa9e2f-58ba-427d-9634-2d83bff3ff8e",
   "metadata": {},
   "outputs": [],
   "source": [
    "import os\n",
    "from dotenv import load_dotenv\n",
    "load_dotenv()\n",
    "\n",
    "#os.environ[\"AZURE_OPENAI_API_KEY\"] = \"Your OpenAI API Key\"\n",
    "#os.environ[\"AZURE_OPENAI_ENDPOINT\"] = \"https://<Your OpenAI Service>.openai.azure.com/\"\n",
    "\n",
    "#これは、モデルをデプロイしたときにデプロイメントに選んだカスタム名に対応します。\n",
    "#AZURE_OPENAI_DEPLOYMENT_NAME = \"gpt-35-turbo\""
   ]
  },
  {
   "cell_type": "markdown",
   "id": "3dafb36d",
   "metadata": {},
   "source": [
    "## 関数呼び出し（非推奨）\n",
    "この手法での関数呼び出しは `2023-07-01-preview` API バージョンで使用でき、`gpt-35-turbo`、`gpt-35-turbo-16k`、`gpt-4`、`gpt-4-32k` のバージョン `0613` で動作します。"
   ]
  },
  {
   "cell_type": "code",
   "execution_count": null,
   "id": "6bd993d8-5d4b-4c58-a793-709f58731a95",
   "metadata": {},
   "outputs": [],
   "source": [
    "import os\n",
    "from openai import AzureOpenAI\n",
    "\n",
    "client = AzureOpenAI(\n",
    "    api_key=os.getenv(\"AZURE_OPENAI_API_KEY\"),\n",
    "    api_version=\"2023-07-01-preview\",\n",
    "    azure_endpoint=os.getenv(\"AZURE_OPENAI_ENDPOINT\"),\n",
    ")"
   ]
  },
  {
   "cell_type": "code",
   "execution_count": null,
   "id": "dd1c47be",
   "metadata": {},
   "outputs": [],
   "source": [
    "messages= [\n",
    "    {\"role\": \"user\", \"content\": \"まず鎌倉幕府第二代征夷大将軍の名前を調べる必要があります\"}\n",
    "]\n",
    "\n",
    "functions= [\n",
    "    {\n",
    "        \"name\": \"PeopleSearchTool\",\n",
    "        \"description\": \"日本の歴史の人物情報の検索に便利です。ユーザーの質問から検索クエリを生成して検索します。クエリは文字列のみを受け付けます\",\n",
    "        \"parameters\": {\n",
    "            \"type\": \"object\",\n",
    "            \"properties\": {\n",
    "                \"query\": {\n",
    "                    \"type\": \"string\",\n",
    "                    \"description\": \"検索クエリー\"\n",
    "                }\n",
    "            },\n",
    "            \"required\": [\n",
    "                \"query\"\n",
    "            ]\n",
    "        }\n",
    "    },\n",
    "    {\n",
    "        \"name\": \"CafeSearchTool\",\n",
    "        \"description\": \"武将にゆかりのあるカフェを検索するのに便利です。カフェの検索クエリには、武将の名前を入力してください。\",\n",
    "        \"parameters\": {\n",
    "            \"type\": \"object\",\n",
    "            \"properties\": {\n",
    "                \"query\": {\n",
    "                    \"type\": \"string\",\n",
    "                    \"description\": \"検索クエリー\"\n",
    "                }\n",
    "            },\n",
    "            \"required\": [\n",
    "                \"query\"\n",
    "            ]\n",
    "        }\n",
    "    },\n",
    "]\n",
    "\n",
    "response = client.chat.completions.create(\n",
    "    model=os.getenv(\"AZURE_OPENAI_DEPLOYMENT_NAME\"), # model = \"deployment_name\"\n",
    "    messages= messages,\n",
    "    functions = functions,\n",
    "    function_call=\"auto\",\n",
    ")\n",
    "\n",
    "print(response.choices[0].message.model_dump_json(indent=2))"
   ]
  },
  {
   "cell_type": "markdown",
   "id": "adf3d166",
   "metadata": {},
   "source": [
    "モデルが関数を呼び出す必要があると判断した場合、API からの応答には `function_call` プロパティが含まれます。`function_call` プロパティには、呼び出す関数の名前と、その関数に渡す引数が含まれます。 引数は、関数を呼び出すために解析して使用できる JSON 文字列です。\n"
   ]
  },
  {
   "cell_type": "markdown",
   "id": "89039af8",
   "metadata": {},
   "source": [
    "## 関数呼び出し（移行後）\n",
    "API の `2023-12-01-preview` バージョンのリリースに伴い、`functions` および `function_call` パラメーターは非推奨になりました。 `functions` に置き換わるのは `tools` パラメーターです。 `function_call` に置き換わるのは `tool_choice` パラメーターです。"
   ]
  },
  {
   "cell_type": "code",
   "execution_count": null,
   "id": "7425b614",
   "metadata": {},
   "outputs": [],
   "source": [
    "messages= [\n",
    "    {\"role\": \"user\", \"content\": \"まず鎌倉幕府第二代征夷大将軍の名前を調べる必要があります\"}\n",
    "]\n",
    "\n",
    "tools= [\n",
    "    {\n",
    "        \"type\": \"function\",\n",
    "        \"function\": {\n",
    "            \"name\": \"PeopleSearchTool\",\n",
    "            \"description\": \"日本の歴史の人物情報の検索に便利です。ユーザーの質問から検索クエリを生成して検索します。クエリは文字列のみを受け付けます\",\n",
    "            \"parameters\": {\n",
    "                \"type\": \"object\",\n",
    "                \"properties\": {\n",
    "                    \"query\": {\n",
    "                        \"type\": \"string\",\n",
    "                        \"description\": \"検索クエリー\"\n",
    "                    }\n",
    "                },\n",
    "                \"required\": [\n",
    "                    \"query\"\n",
    "                ]\n",
    "            }\n",
    "        }\n",
    "    },\n",
    "    {\n",
    "        \"type\": \"function\",\n",
    "        \"function\": {\n",
    "            \"name\": \"CafeSearchTool\",\n",
    "            \"description\": \"武将にゆかりのあるカフェを検索するのに便利です。カフェの検索クエリには、武将の名前を入力してください。\",\n",
    "            \"parameters\": {\n",
    "                \"type\": \"object\",\n",
    "                \"properties\": {\n",
    "                    \"query\": {\n",
    "                        \"type\": \"string\",\n",
    "                        \"description\": \"検索クエリー\"\n",
    "                    }\n",
    "                },\n",
    "                \"required\": [\n",
    "                    \"query\"\n",
    "                ]\n",
    "            }\n",
    "        }\n",
    "    }\n",
    "]\n",
    "\n",
    "response = client.chat.completions.create(\n",
    "    model=os.getenv(\"AZURE_OPENAI_DEPLOYMENT_NAME\"), # model = \"deployment_name\"\n",
    "    messages= messages,\n",
    "    tools = tools,\n",
    "    tool_choice=\"auto\",\n",
    ")\n",
    "\n",
    "print(response.choices[0].message.model_dump_json(indent=2))"
   ]
  },
  {
   "cell_type": "code",
   "execution_count": null,
   "id": "fc537b72",
   "metadata": {},
   "outputs": [],
   "source": [
    "messages= [\n",
    "    {\"role\": \"user\", \"content\": \"鎌倉幕府第二代征夷大将軍の名前は源頼家であることがわかりました。次に、源頼家ゆかりの地にあるカフェを調べます。\"}\n",
    "]\n",
    "\n",
    "response = client.chat.completions.create(\n",
    "    model=os.getenv(\"AZURE_OPENAI_DEPLOYMENT_NAME\"), # model = \"deployment_name\"\n",
    "    messages= messages,\n",
    "    tools = tools,\n",
    "    tool_choice=\"auto\",\n",
    ")\n",
    "\n",
    "print(response.choices[0].message.model_dump_json(indent=2))\n"
   ]
  },
  {
   "cell_type": "markdown",
   "id": "06e6a3f9",
   "metadata": {},
   "source": [
    "## 並列関数呼び出し\n",
    "並列関数呼び出しを使用すると、複数の関数呼び出しを同時に実行できるため、並列実行と結果の取得が可能になります。 これにより、必要な API 呼び出しの数が減り、全体的なパフォーマンスが向上します。\n",
    "\n",
    "### サポートされているモデル\n",
    "- `gpt-35-turbo (1106)`\n",
    "- `gpt-4 (1106-preview)`\n",
    "\n",
    "### サポートされる API バージョン\n",
    "- `2023-12-01-preview`\n",
    "\n",
    "サポートされていないモデルを用いると、単一の関数しか返却されません。"
   ]
  },
  {
   "cell_type": "code",
   "execution_count": null,
   "id": "b8168fdd",
   "metadata": {},
   "outputs": [],
   "source": [
    "from openai import AzureOpenAI\n",
    "import os\n",
    "\n",
    "client_new = AzureOpenAI(\n",
    "    api_key=os.getenv(\"AZURE_OPENAI_API_KEY\"),\n",
    "    api_version=\"2023-12-01-preview\",\n",
    "    azure_endpoint=os.getenv(\"AZURE_OPENAI_ENDPOINT\"),\n",
    ")"
   ]
  },
  {
   "cell_type": "code",
   "execution_count": null,
   "id": "4b8f5d6d",
   "metadata": {},
   "outputs": [],
   "source": [
    "messages= [\n",
    "    {\"role\": \"user\", \"content\": \"サンフランシスコ、東京、パリの天気は？\"}\n",
    "]\n",
    "\n",
    "tools= [\n",
    "     {\n",
    "        \"type\": \"function\",\n",
    "        \"function\": {\n",
    "            \"name\": \"get_current_weather\",\n",
    "            \"description\": \"指定した場所の現在の天気を取得する\",\n",
    "            \"parameters\": {\n",
    "                \"type\": \"object\",\n",
    "                \"properties\": {\n",
    "                    \"location\": {\n",
    "                        \"type\": \"string\",\n",
    "                        \"description\": \"都市と州（例：San Francisco, CA）\",\n",
    "                    },\n",
    "                    \"unit\": {\"type\": \"string\", \"enum\": [\"celsius\", \"fahrenheit\"]},\n",
    "                },\n",
    "                \"required\": [\"location\"],\n",
    "            },\n",
    "        },\n",
    "    }\n",
    "]\n",
    "\n",
    "response = client_new.chat.completions.create(\n",
    "    model=os.getenv(\"AZURE_OPENAI_DEPLOYMENT_NAME\"), # model = \"deployment_name\"\n",
    "    messages= messages,\n",
    "    tools = tools,\n",
    "    tool_choice=\"auto\",\n",
    ")\n",
    "\n",
    "print(response.choices[0].message.model_dump_json(indent=2))"
   ]
  },
  {
   "cell_type": "markdown",
   "id": "74dd3eb3",
   "metadata": {},
   "source": [
    "たとえば、単純な天気アプリでは、複数の場所の天気を同時に取得したい場合があります。 これにより、`tool_calls` 配列内にそれぞれ一意の `id` を持つ 3 つの関数呼び出しを含むチャット完了メッセージが生成されます。 これらの関数呼び出しに応答する場合は、それぞれ 1 つの関数呼び出しの結果を含む 3 つの新しいメッセージとともに、`tools_calls` から `id` を参照する `tool_call_id` を会話に追加します。"
   ]
  },
  {
   "cell_type": "markdown",
   "id": "9b97ed90",
   "metadata": {},
   "source": [
    "## 実行する関数の定義\n",
    "モデルは呼び出すべき関数しか返却しません。関数を実行するフェーズでは、ユーザーに代わって世界に影響を与えるアクション (電子メールの送信、オンラインでの投稿、購入など) を実行する前に、ユーザー確認フローを組み込むことを強くおすすめします。"
   ]
  },
  {
   "cell_type": "code",
   "execution_count": null,
   "id": "758d1e1e",
   "metadata": {},
   "outputs": [],
   "source": [
    "import json\n",
    "# 同じ天気を返すようにハードコードされた関数の例\n",
    "# 本番環境では、これはバックエンドAPIか外部APIとなる\n",
    "def get_current_weather(location, unit=\"celsius\"):\n",
    "    \"\"\"Get the current weather in a given location\"\"\"\n",
    "    if \"tokyo\" in location.lower():\n",
    "        return json.dumps({\"location\": \"Tokyo\", \"temperature\": \"10\", \"unit\": unit})\n",
    "    elif \"san francisco\" in location.lower():\n",
    "        return json.dumps({\"location\": \"San Francisco\", \"temperature\": \"72\", \"unit\": unit})\n",
    "    elif \"paris\" in location.lower():\n",
    "        return json.dumps({\"location\": \"Paris\", \"temperature\": \"22\", \"unit\": unit})\n",
    "    else:\n",
    "        return json.dumps({\"location\": location, \"temperature\": \"unknown\"})\n"
   ]
  },
  {
   "cell_type": "code",
   "execution_count": null,
   "id": "43b66b87",
   "metadata": {},
   "outputs": [],
   "source": [
    "response_message = response.choices[0].message\n",
    "tool_calls = response_message.tool_calls\n",
    "tool_calls"
   ]
  },
  {
   "cell_type": "markdown",
   "id": "6ef1681f",
   "metadata": {},
   "source": [
    "## 関数の実行"
   ]
  },
  {
   "cell_type": "code",
   "execution_count": null,
   "id": "6e2f7594",
   "metadata": {},
   "outputs": [],
   "source": [
    "# Step 2: モデルが関数を呼び出したいかどうかをチェックする\n",
    "if tool_calls:\n",
    "    # Step 3: 関数を呼び出す\n",
    "    # Note: JSONレスポンスが常に有効であるとは限りません。\n",
    "    available_functions = {\n",
    "        \"get_current_weather\": get_current_weather,\n",
    "    }  # この例では関数は1つだけですが、複数の関数を使うこともできます。\n",
    "    messages.append(response_message)  # アシスタントの返答で messages を拡張\n",
    "    # Step 4: 各関数の呼び出しとレスポンスの情報をモデルに送信する。\n",
    "    for tool_call in tool_calls:\n",
    "        function_name = tool_call.function.name\n",
    "        function_to_call = available_functions[function_name]\n",
    "        function_args = json.loads(tool_call.function.arguments)\n",
    "        function_response = function_to_call(\n",
    "            location=function_args.get(\"location\"),\n",
    "            unit=function_args.get(\"unit\")\n",
    "        )\n",
    "        messages.append(\n",
    "            {\n",
    "                \"tool_call_id\": tool_call.id,\n",
    "                \"role\": \"tool\",\n",
    "                \"name\": function_name,\n",
    "                \"content\": function_response,\n",
    "            }\n",
    "        )  # 関数応答で messages を拡張\n",
    "    #print(messages)\n",
    "    second_response = client_new.chat.completions.create(\n",
    "        model=os.getenv(\"AZURE_OPENAI_DEPLOYMENT_NAME\"),\n",
    "        messages=messages,\n",
    "    )  # モデルから新しいレスポンスを取得し、そこで関数のレスポンスを確認する\n",
    "    #print(second_response)\n",
    "    print(second_response.choices[0].message.content)"
   ]
  }
 ],
 "metadata": {
  "kernelspec": {
   "display_name": "Python 3 (ipykernel)",
   "language": "python",
   "name": "python3"
  },
  "language_info": {
   "codemirror_mode": {
    "name": "ipython",
    "version": 3
   },
   "file_extension": ".py",
   "mimetype": "text/x-python",
   "name": "python",
   "nbconvert_exporter": "python",
   "pygments_lexer": "ipython3",
   "version": "3.10.13"
  }
 },
 "nbformat": 4,
 "nbformat_minor": 5
}
