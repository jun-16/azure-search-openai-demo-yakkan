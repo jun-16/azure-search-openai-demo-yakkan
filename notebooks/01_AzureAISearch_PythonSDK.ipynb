{
 "cells": [
  {
   "cell_type": "markdown",
   "id": "eb299f82-f4b1-4f85-9195-07724f6dd4cb",
   "metadata": {},
   "source": [
    "# Vector search in Python (Azure AI Search)\n",
    "このサンプルノートブックでは Azure AI Search の Python SDK を使用して以下の検索クエリーを試すことができます。\n",
    "\n",
    "- キーワード検索\n",
    "- ベクトル検索\n",
    "- ハイブリッド検索\n",
    "- セマンティックハイブリッド検索\n",
    "\n"
   ]
  },
  {
   "cell_type": "markdown",
   "id": "38c68a5b",
   "metadata": {},
   "source": [
    "# 事前準備\n",
    "この Python サンプルを実行するには、以下が必要です：\n",
    "- Azure AI Search リソース。エンドポイントと管理 API キーが必要です。\n",
    "- Azure OpenAI Service にアクセスできる承認済み Azure サブスクリプション\n",
    "- Azure OpenAI Service への `text-embedding-ada-002` Embeddings モデルのデプロイメント。このデモでは、API バージョン `2023-05-15` を使用しています。デプロイ名はモデルと同じ「`text-embedding-ada-002`」を使用しています。\n",
    "- Azure OpenAI Service の接続とモデル情報\n",
    "  - OpenAI API キー\n",
    "  - OpenAI Embeddings モデルのデプロイメント名\n",
    "  - OpenAI API バージョン\n",
    "- Python (この手順はバージョン 3.10.x でテストされています)\n",
    "\n",
    "これらのデモには、Visual Studio Code と [Jupyter extension](https://marketplace.visualstudio.com/items?itemName=ms-toolsai.jupyter) を使用できます。"
   ]
  },
  {
   "cell_type": "markdown",
   "id": "1e7c8bef",
   "metadata": {},
   "source": [
    "## パッケージのインストール"
   ]
  },
  {
   "cell_type": "code",
   "execution_count": null,
   "id": "da1d9bbd-e2b9-451a-a872-56f19430d0e6",
   "metadata": {
    "scrolled": true
   },
   "outputs": [],
   "source": [
    "!pip install azure-search-documents==11.4.0\n",
    "!pip install openai"
   ]
  },
  {
   "cell_type": "markdown",
   "id": "524420cf",
   "metadata": {},
   "source": [
    "## 必要なライブラリと環境変数のインポート"
   ]
  },
  {
   "cell_type": "code",
   "execution_count": null,
   "id": "3c6ef945-8aa3-4538-8bf7-662c01bdf397",
   "metadata": {
    "scrolled": true
   },
   "outputs": [],
   "source": [
    "import azure.search.documents\n",
    "azure.search.documents.__version__"
   ]
  },
  {
   "cell_type": "code",
   "execution_count": null,
   "id": "94c62e8d-9891-4fde-a989-9bb040e1558f",
   "metadata": {},
   "outputs": [],
   "source": [
    "from azure.core.credentials import AzureKeyCredential  \n",
    "from azure.search.documents import SearchClient, SearchIndexingBufferedSender  \n",
    "from azure.search.documents.indexes import SearchIndexClient  \n",
    "from azure.search.documents.models import (\n",
    "    QueryAnswerType,\n",
    "    QueryCaptionType,\n",
    "    QueryCaptionResult,\n",
    "    QueryAnswerResult,\n",
    "    SemanticErrorMode,\n",
    "    SemanticErrorReason,\n",
    "    SemanticSearchResultsType,\n",
    "    QueryType,\n",
    "    VectorizedQuery,\n",
    "    VectorQuery,\n",
    "    VectorFilterMode,    \n",
    ")"
   ]
  },
  {
   "cell_type": "markdown",
   "id": "8c014e02",
   "metadata": {},
   "source": [
    "## 接続設定"
   ]
  },
  {
   "cell_type": "code",
   "execution_count": null,
   "id": "652d5c38-7c3d-4849-8079-6f4bcc144a2b",
   "metadata": {},
   "outputs": [],
   "source": [
    "service_endpoint: str = \"<Your search service endpoint>\"\n",
    "service_query_key: str = \"<Your search service query key>\"\n",
    "index_name: str = \"gptkbindex\"\n",
    "model: str = \"text-embedding-ada-002\"\n",
    "\n",
    "credential = AzureKeyCredential(service_query_key)"
   ]
  },
  {
   "cell_type": "markdown",
   "id": "1e85da5c-77b3-45b2-9dd4-e5dd128ccb41",
   "metadata": {},
   "source": [
    "# 1. キーワード検索\n",
    "最もシンプルなキーワード検索のクエリーです。`ja.lucene` というスタンダードな日本語アナライザーに搭載されている辞書ベースのトークナイザーによって、これらのトークンに分解されます。このトークンを用いて転置インデックスが構築されます。\n",
    "\n",
    "次に TF/IDF ベースの [BM25](https://ja.wikipedia.org/wiki/Okapi_BM25) スコアリングアルゴリズムによって、文章中からトークンの一致頻度を見て関連性スコアが決定されます。細かくはトークンのレア度や文章中の密度なども重みづけされます。キーワード検索では、わざとスペルミスしたので、**源実朝**という一つのトークンにならずに、**一文字ずつのトークンになって関係ない人名の部分でヒット**してしまったりしてますね。また、「特徴」というワードをそのまま検索しており、文章中に「和歌の特徴」とあからさまに書いていない限りこのワードは意味を成しません。残念ながらこの検索方法では、「和歌の特徴を知りたい」というユーザーの意図は考慮されません。"
   ]
  },
  {
   "cell_type": "code",
   "execution_count": null,
   "id": "ec703c22-5016-494f-b548-1996f279fe86",
   "metadata": {
    "scrolled": true
   },
   "outputs": [],
   "source": [
    "query = \"源実友のお歌にはどのような特徴があったのでしょうか？\"  \n",
    "search_client = SearchClient(service_endpoint, index_name, credential=credential)\n",
    "docs = search_client.search(\n",
    "    search_text=query,\n",
    "    top=3,\n",
    "    highlight_fields=\"content-3\",\n",
    "    select=\"sourcepage,content,category\"\n",
    ") \n",
    "\n",
    "for doc in docs:\n",
    "    print(f\"Source: {doc['sourcepage']}\")  \n",
    "    print(f\"Score: {doc['@search.score']}\")  \n",
    "    print(f\"Content: {doc['content']}\")  \n",
    "    print(f\"Category: {doc['category']}\\n\")"
   ]
  },
  {
   "cell_type": "markdown",
   "id": "0cda9f83-1e4d-437f-82e3-515258dcce9d",
   "metadata": {},
   "source": [
    "# 2. ベクトル類似性検索"
   ]
  },
  {
   "cell_type": "markdown",
   "id": "502b043a-044b-458e-9626-7c4cda992103",
   "metadata": {},
   "source": [
    "## Azure OpenAI の設定"
   ]
  },
  {
   "cell_type": "code",
   "execution_count": null,
   "id": "7daa9e2f-58ba-427d-9634-2d83bff3ff8e",
   "metadata": {},
   "outputs": [],
   "source": [
    "AZURE_OPENAI_API_KEY = \"Your OpenAI API Key\"\n",
    "AZURE_OPENAI_ENDPOINT = \"https://<Your OpenAI Service>.openai.azure.com/\""
   ]
  },
  {
   "cell_type": "code",
   "execution_count": null,
   "id": "6bd993d8-5d4b-4c58-a793-709f58731a95",
   "metadata": {},
   "outputs": [],
   "source": [
    "from openai import AzureOpenAI\n",
    "from tenacity import retry, wait_random_exponential, stop_after_attempt  \n",
    "\n",
    "client = AzureOpenAI(\n",
    "  api_key = AZURE_OPENAI_API_KEY,  \n",
    "  api_version = \"2023-05-15\",\n",
    "  azure_endpoint = AZURE_OPENAI_ENDPOINT\n",
    ")\n",
    "\n",
    "@retry(wait=wait_random_exponential(min=1, max=20), stop=stop_after_attempt(6))\n",
    "# タイトルフィールドとコンテンツフィールドのEmbeddingsを生成する関数。\n",
    "def generate_embeddings(text, model=model):\n",
    "    return client.embeddings.create(input = [text], model=model).data[0].embedding"
   ]
  },
  {
   "cell_type": "markdown",
   "id": "38d47ed0-380f-4ccd-a7c4-9d4e08569a06",
   "metadata": {},
   "source": [
    "# 2.1. シンプルなベクトル検索\n",
    "「源実**友**の**お歌**にはどのような特徴があったのでしょうか？」というわざとスペルミスを入れたり和歌をお歌と言い換えたりしたクエリーで検索をかけます。`text-embeddings-ada-002` で生成したベクトルを検索すると、キーワードの一致にとらわれずに、テキストの類似性だけを見て検索しています。スペルミスも良い具合に無視されて検索されることが分かります。ほしい答えは「万葉風の歌人」という部分です。"
   ]
  },
  {
   "cell_type": "code",
   "execution_count": null,
   "id": "92f3092d-ced3-4c3e-b3ad-59c7d045585c",
   "metadata": {},
   "outputs": [],
   "source": [
    "query = \"源実友のお歌にはどのような特徴があったのでしょうか？\"  \n",
    "\n",
    "search_client = SearchClient(service_endpoint, index_name, credential=credential)\n",
    "vector_query = VectorizedQuery(vector=generate_embeddings(query), k_nearest_neighbors=3, fields=\"embedding\")\n",
    "\n",
    "docs = search_client.search(\n",
    "    search_text=None,\n",
    "    vector_queries= [vector_query],\n",
    "    select=[\"sourcepage\", \"content\", \"category\"],\n",
    ")\n",
    "\n",
    "for doc in docs:\n",
    "    print(f\"Source: {doc['sourcepage']}\")  \n",
    "    print(f\"Score: {doc['@search.score']}\")  \n",
    "    print(f\"Content: {doc['content']}\")  \n",
    "    print(f\"Category: {doc['category']}\\n\")"
   ]
  },
  {
   "cell_type": "markdown",
   "id": "ab2500ed-c144-48ba-adf3-a1108f7af3f7",
   "metadata": {},
   "source": [
    "## 2.1.1. 多言語能力\n",
    "`text-embeddings-ada-002` の多言語能力を確認してみましょう。日本語のドキュメントを英語で検索します。"
   ]
  },
  {
   "cell_type": "code",
   "execution_count": null,
   "id": "fc224552-6d61-4824-8cd8-6dd22b2cc6ab",
   "metadata": {
    "scrolled": true
   },
   "outputs": [],
   "source": [
    "query = \"What were the characteristics of Minamoto Sanetomo's poetry?\"  \n",
    "\n",
    "search_client = SearchClient(service_endpoint, index_name, credential=credential)\n",
    "vector_query = VectorizedQuery(vector=generate_embeddings(query), k_nearest_neighbors=3, fields=\"embedding\")\n",
    "\n",
    "docs = search_client.search(\n",
    "    search_text=None,\n",
    "    vector_queries= [vector_query],\n",
    "    select=[\"sourcepage\", \"content\", \"category\"],\n",
    ")\n",
    "\n",
    "for doc in docs:\n",
    "    print(f\"Source: {doc['sourcepage']}\")  \n",
    "    print(f\"Score: {doc['@search.score']}\")  \n",
    "    print(f\"Content: {doc['content']}\")  \n",
    "    print(f\"Category: {doc['category']}\\n\")"
   ]
  },
  {
   "cell_type": "markdown",
   "id": "4e0c43f9-ec15-41a7-bd36-244be63145cb",
   "metadata": {},
   "source": [
    "# 2.2. ハイブリッド検索\n",
    "ハイブリッド検索では、キーワード検索とベクトル検索の両方をクエリーとして使います。ハイブリッド検索ではどのように検索スコアを計算しているかといいますと、まずキーワード検索のスコアには Okapi BM25 アルゴリズムによるスコアを採用し、ベクトル検索ではコサイン類似度をスコアとして用いており、両者異なるスコアです。これを融合するシンプルな計算式として、[Reciprocal Rank Fusion(RRF)](https://learn.microsoft.com/azure/search/hybrid-search-ranking) が採用されています。RRF は両者の文書ランクの逆数の和を取ります。つまり、その文書の順位だけを見て、どちらのランキングでも上位にきていればスコアが高くなる仕組みです。"
   ]
  },
  {
   "cell_type": "code",
   "execution_count": null,
   "id": "2318cff5-7c4d-45d2-9252-3fac51e5eaa7",
   "metadata": {
    "scrolled": true
   },
   "outputs": [],
   "source": [
    "query = \"源実友は征夷大将軍として知られているだけでなく、ある有名な趣味も持っています。それは何ですか。\"  \n",
    "\n",
    "search_client = SearchClient(service_endpoint, index_name, credential=credential)\n",
    "vector_query = VectorizedQuery(vector=generate_embeddings(query), k_nearest_neighbors=50, fields=\"embedding\")\n",
    "\n",
    "docs = search_client.search(\n",
    "    search_text=query,\n",
    "    vector_queries= [vector_query],\n",
    "    select=[\"sourcepage\", \"content\", \"category\"],\n",
    "    top=3\n",
    ")\n",
    "\n",
    "for doc in docs:\n",
    "    print(f\"Source: {doc['sourcepage']}\")  \n",
    "    print(f\"Score: {doc['@search.score']}\")  \n",
    "    print(f\"Content: {doc['content']}\")  \n",
    "    print(f\"Category: {doc['category']}\\n\")"
   ]
  },
  {
   "cell_type": "markdown",
   "id": "293733e4",
   "metadata": {},
   "source": [
    "# 2.3 セマンティックハイブリッド検索\n",
    "セマンティックハイブリッド検索（ハイブリッド検索＋セマンティックランカー）は Azure AI Search 独自の検索機能であり、ハイブリッド検索と検索結果を高い精度で並べ替えるリランカー機能（セマンティックランカー）を組み合わせた高度な検索方法です。リランカーは Microsoft 製の言語モデルである [Turing](https://techcommunity.microsoft.com/t5/ai-azure-ai-services-blog/introducing-multilingual-support-for-semantic-search-on-azure/ba-p/2385110) モデルに基づいています。"
   ]
  },
  {
   "cell_type": "code",
   "execution_count": null,
   "id": "2e5c78ca",
   "metadata": {
    "scrolled": true
   },
   "outputs": [],
   "source": [
    "query = \"１３人の合議制に含まれるメンバー一覧\"  \n",
    "\n",
    "search_client = SearchClient(service_endpoint, index_name, credential=credential)\n",
    "vector_query = VectorizedQuery(vector=generate_embeddings(query), k_nearest_neighbors=50, fields=\"embedding\")\n",
    "\n",
    "docs = search_client.search(\n",
    "    search_text=query,\n",
    "    vector_queries= [vector_query],\n",
    "    select=[\"sourcepage\", \"content\", \"category\"],\n",
    "    query_type=QueryType.SEMANTIC, \n",
    "    semantic_configuration_name='default', \n",
    "    query_caption=QueryCaptionType.EXTRACTIVE, \n",
    "    query_answer=QueryAnswerType.EXTRACTIVE,\n",
    "    top=3\n",
    ")\n",
    "\n",
    "semantic_answers = docs.get_answers()\n",
    "for answer in semantic_answers:\n",
    "    if answer.highlights:\n",
    "        print(f\"Semantic Answer: {answer.highlights}\")\n",
    "    else:\n",
    "        print(f\"Semantic Answer: {answer.text}\")\n",
    "    print(f\"Semantic Answer Score: {answer.score}\\n\")\n",
    "    \n",
    "for doc in docs:\n",
    "    print(f\"Source: {doc['sourcepage']}\")  \n",
    "    print(f\"Score: {doc['@search.score']}\")  \n",
    "    print(f\"Content: {doc['content']}\")  \n",
    "    print(f\"Category: {doc['category']}\\n\")\n",
    "    \n",
    "    captions = doc[\"@search.captions\"]\n",
    "    if captions:\n",
    "        caption = captions[0]\n",
    "        if caption.highlights:\n",
    "            print(f\"Caption: {caption.highlights}\\n\")\n",
    "        else:\n",
    "            print(f\"Caption: {caption.text}\\n\")"
   ]
  },
  {
   "cell_type": "markdown",
   "id": "1f7e27f5",
   "metadata": {},
   "source": [
    "## 2.3.1. セマンティックアンサーとセマンティックキャプション\n",
    "**セマンティックアンサー**は、検索ドキュメントから答えにもっとも近いと思われる一節を取り出して表示する特殊なレスポンスです。一節の中でもさらに回答に近いと思われる部分には自動的にハイライトを付加します。セマンティックアンサーを返すには、回答の言語特性を持つフレーズまたは文が検索ドキュメントに存在している必要があり、検索クエリ自体が質問として提示されている必要があります。モデルは利用可能なコンテンツから一連の潜在的な回答を抽出し、**十分に高い信頼水準に達するときだけ**セマンティックアンサーを提案します。\n",
    "\n",
    "**セマンティックキャプション**はピンポイントでセマンティックアンサーが得られなった場合でも、関連性の高い検索結果の一部を取り出す（抽出的要約）ことができます。これらは新しい文やフレーズを生成しているわけではないため、信頼性が必要な説明や定義を表示するシーンに適しています。"
   ]
  },
  {
   "cell_type": "code",
   "execution_count": null,
   "id": "cbacc643",
   "metadata": {},
   "outputs": [],
   "source": [
    "query = \"源頼朝が征夷大将軍に任命されたのはいつ\"  \n",
    "\n",
    "search_client = SearchClient(service_endpoint, index_name, credential=credential)\n",
    "vector_query = VectorizedQuery(vector=generate_embeddings(query), k_nearest_neighbors=50, fields=\"embedding\")\n",
    "\n",
    "docs = search_client.search(\n",
    "    search_text=query,\n",
    "    vector_queries= [vector_query],\n",
    "    select=[\"sourcepage\", \"content\", \"category\"],\n",
    "    query_type=QueryType.SEMANTIC, \n",
    "    semantic_configuration_name='default', \n",
    "    query_caption=QueryCaptionType.EXTRACTIVE, \n",
    "    query_answer=QueryAnswerType.EXTRACTIVE,\n",
    "    top=3\n",
    ")\n",
    "\n",
    "semantic_answers = docs.get_answers()\n",
    "for answer in semantic_answers:\n",
    "    if answer.highlights:\n",
    "        print(f\"Semantic Answer: {answer.highlights}\")\n",
    "    else:\n",
    "        print(f\"Semantic Answer: {answer.text}\")\n",
    "    print(f\"Semantic Answer Score: {answer.score}\\n\")\n",
    "    \n",
    "for doc in docs:\n",
    "    captions = doc[\"@search.captions\"]\n",
    "    if captions:\n",
    "        caption = captions[0]\n",
    "        if caption.highlights:\n",
    "            print(f\"Caption: {caption.highlights}\\n\")\n",
    "        else:\n",
    "            print(f\"Caption: {caption.text}\\n\")"
   ]
  },
  {
   "cell_type": "code",
   "execution_count": null,
   "id": "1b011116",
   "metadata": {},
   "outputs": [],
   "source": [
    "query = \"守護・地頭を設置した人は誰\"\n",
    "\n",
    "search_client = SearchClient(service_endpoint, index_name, credential=credential)\n",
    "vector_query = VectorizedQuery(vector=generate_embeddings(query), k_nearest_neighbors=50, fields=\"embedding\")\n",
    "\n",
    "docs = search_client.search(\n",
    "    search_text=query,\n",
    "    vector_queries= [vector_query],\n",
    "    select=[\"sourcepage\", \"content\", \"category\"],\n",
    "    query_type=QueryType.SEMANTIC, \n",
    "    semantic_configuration_name='default', \n",
    "    query_caption=QueryCaptionType.EXTRACTIVE, \n",
    "    query_answer=QueryAnswerType.EXTRACTIVE,\n",
    "    top=3\n",
    ")\n",
    "\n",
    "semantic_answers = docs.get_answers()\n",
    "for answer in semantic_answers:\n",
    "    if answer.highlights:\n",
    "        print(f\"Semantic Answer: {answer.highlights}\")\n",
    "    else:\n",
    "        print(f\"Semantic Answer: {answer.text}\")\n",
    "    print(f\"Semantic Answer Score: {answer.score}\\n\")\n",
    "    \n",
    "for doc in docs:\n",
    "    captions = doc[\"@search.captions\"]\n",
    "    if captions:\n",
    "        caption = captions[0]\n",
    "        if caption.highlights:\n",
    "            print(f\"Caption: {caption.highlights}\\n\")\n",
    "        else:\n",
    "            print(f\"Caption: {caption.text}\\n\")"
   ]
  }
 ],
 "metadata": {
  "kernelspec": {
   "display_name": "Python 3 (ipykernel)",
   "language": "python",
   "name": "python3"
  }
 },
 "nbformat": 4,
 "nbformat_minor": 5
}
