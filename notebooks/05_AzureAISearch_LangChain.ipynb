{
 "cells": [
  {
   "cell_type": "markdown",
   "id": "eb299f82-f4b1-4f85-9195-07724f6dd4cb",
   "metadata": {},
   "source": [
    "# Vector search with LangChain (Azure AI Search)\n",
    "このサンプルノートブックでは LangChain を使用して Azure AI Search の以下の検索クエリーを試すことができます。\n",
    "\n",
    "- キーワード検索\n",
    "- ベクトル検索\n",
    "- ハイブリッド検索\n",
    "- セマンティックハイブリッド検索\n",
    "\n"
   ]
  },
  {
   "cell_type": "markdown",
   "id": "38c68a5b",
   "metadata": {},
   "source": [
    "# 事前準備\n",
    "この Python サンプルを実行するには、以下が必要です：\n",
    "- Azure AI Search リソース。エンドポイントとクエリ API キーが必要です。\n",
    "- Azure OpenAI Service にアクセスできる承認済み Azure サブスクリプション\n",
    "- Azure OpenAI Service への `text-embedding-ada-002` Embeddings モデルのデプロイメント。このデモでは、API バージョン `2023-05-15` を使用しています。デプロイ名はモデルと同じ「`text-embedding-ada-002`」を使用しています。\n",
    "- Azure OpenAI Service の接続とモデル情報\n",
    "  - OpenAI API キー\n",
    "  - OpenAI Embeddings モデルのデプロイメント名\n",
    "  - OpenAI API バージョン\n",
    "- Python (この手順はバージョン 3.10.x でテストされています)\n",
    "\n",
    "これらのデモには、Visual Studio Code と [Jupyter extension](https://marketplace.visualstudio.com/items?itemName=ms-toolsai.jupyter) を使用できます。"
   ]
  },
  {
   "cell_type": "markdown",
   "id": "1e7c8bef",
   "metadata": {},
   "source": [
    "## パッケージのインストール"
   ]
  },
  {
   "cell_type": "markdown",
   "id": "807ce31a",
   "metadata": {},
   "source": [
    "<div class=\"alert alert-block alert-success\">\n",
    "<b>Note:</b> LangChain の pull request <a href=\"https://github.com/langchain-ai/langchain/pull/14789\">#14789</a> がリリースに組み込まれるまでは、azure-search-documents==11.4.0b8 を使用する必要があります。</div>\n"
   ]
  },
  {
   "cell_type": "code",
   "execution_count": null,
   "id": "da1d9bbd-e2b9-451a-a872-56f19430d0e6",
   "metadata": {
    "scrolled": true
   },
   "outputs": [],
   "source": [
    "!pip uninstall -y azure-search-documents\n",
    "!pip install azure-search-documents==11.4.0b8\n",
    "#pip install azure-search-documents==11.4.0"
   ]
  },
  {
   "cell_type": "code",
   "execution_count": null,
   "id": "8177d775",
   "metadata": {},
   "outputs": [],
   "source": [
    "!pip install openai[datalib]==1.3.9\n",
    "!pip install langchain==0.0.350"
   ]
  },
  {
   "cell_type": "code",
   "execution_count": null,
   "id": "3c6ef945-8aa3-4538-8bf7-662c01bdf397",
   "metadata": {
    "scrolled": true
   },
   "outputs": [],
   "source": [
    "import azure.search.documents\n",
    "print(\"azure.search.documents\", azure.search.documents.__version__)\n",
    "import openai\n",
    "print(\"openai\", openai.__version__)\n",
    "import langchain\n",
    "print(\"langchain\", langchain.__version__)"
   ]
  },
  {
   "cell_type": "markdown",
   "id": "524420cf",
   "metadata": {},
   "source": [
    "## 必要なライブラリと環境変数のインポート"
   ]
  },
  {
   "cell_type": "code",
   "execution_count": null,
   "id": "94c62e8d-9891-4fde-a989-9bb040e1558f",
   "metadata": {},
   "outputs": [],
   "source": [
    "import os\n",
    "\n",
    "os.environ[\"AZURESEARCH_FIELDS_CONTENT\"]=\"content\"\n",
    "os.environ[\"AZURESEARCH_FIELDS_CONTENT_VECTOR\"]=\"embedding\"\n",
    "\n",
    "from langchain.embeddings.azure_openai import AzureOpenAIEmbeddings\n",
    "from langchain.vectorstores.azuresearch import AzureSearch"
   ]
  },
  {
   "cell_type": "markdown",
   "id": "8c014e02",
   "metadata": {},
   "source": [
    "## 接続設定"
   ]
  },
  {
   "cell_type": "code",
   "execution_count": null,
   "id": "652d5c38-7c3d-4849-8079-6f4bcc144a2b",
   "metadata": {},
   "outputs": [],
   "source": [
    "vector_store_address: str = \"<Your search service endpoint>\"\n",
    "vector_store_password: str = \"<Your search service query key>\"\n",
    "\n",
    "os.environ[\"AZURE_OPENAI_API_KEY\"] = \"Your OpenAI API Key\"\n",
    "os.environ[\"AZURE_OPENAI_ENDPOINT\"] = \"https://<Your OpenAI Service>.openai.azure.com/\"\n",
    "\n",
    "model: str = \"embedding\" #自動構築時のデフォルト設定\n",
    "index_name: str = \"gptkbindex\" #自動構築時のデフォルト設定\n"
   ]
  },
  {
   "cell_type": "code",
   "execution_count": null,
   "id": "59d75f51",
   "metadata": {},
   "outputs": [],
   "source": [
    "embeddings = AzureOpenAIEmbeddings(\n",
    "    azure_deployment=model,\n",
    "    openai_api_version=\"2023-05-15\"\n",
    ")\n",
    "\n",
    "vector_store: AzureSearch = AzureSearch(\n",
    "    azure_search_endpoint=vector_store_address,\n",
    "    azure_search_key=vector_store_password,\n",
    "    index_name=index_name,\n",
    "    embedding_function=embeddings.embed_query,\n",
    "    semantic_configuration_name=\"default\"\n",
    ")"
   ]
  },
  {
   "cell_type": "markdown",
   "id": "1e85da5c-77b3-45b2-9dd4-e5dd128ccb41",
   "metadata": {},
   "source": [
    "# 1. キーワード検索\n",
    "最もシンプルなキーワード検索のクエリーです。`ja.lucene` というスタンダードな日本語アナライザーに搭載されている辞書ベースのトークナイザーによって、これらのトークンに分解されます。このトークンを用いて転置インデックスが構築されます。\n",
    "\n",
    "次に TF/IDF ベースの [BM25](https://ja.wikipedia.org/wiki/Okapi_BM25) スコアリングアルゴリズムによって、文章中からトークンの一致頻度を見て関連性スコアが決定されます。細かくはトークンのレア度や文章中の密度なども重みづけされます。キーワード検索では、わざとスペルミスしたので、**源実朝**という一つのトークンにならずに、**一文字ずつのトークンになって関係ない人名の部分でヒット**してしまったりしてますね。また、「特徴」というワードをそのまま検索しており、文章中に「和歌の特徴」とあからさまに書いていない限りこのワードは意味を成しません。残念ながらこの検索方法では、「和歌の特徴を知りたい」というユーザーの意図は考慮されません。"
   ]
  },
  {
   "cell_type": "code",
   "execution_count": null,
   "id": "ec703c22-5016-494f-b548-1996f279fe86",
   "metadata": {
    "scrolled": true
   },
   "outputs": [],
   "source": [
    "from langchain.retrievers import AzureCognitiveSearchRetriever\n",
    "\n",
    "query = \"源実友のお歌にはどのような特徴があったのでしょうか？\"\n",
    "retriever = AzureCognitiveSearchRetriever(\n",
    "    service_name=\"gptkb-xxxxxxxxx\", #Your Azure AI Search service name\n",
    "    index_name=index_name,\n",
    "    api_key=vector_store_password,\n",
    "    content_key=\"content\",\n",
    "    top_k=3,\n",
    ")\n",
    "\n",
    "docs = retriever.get_relevant_documents(query)\n",
    "for doc in docs:\n",
    "    print(doc.metadata[\"sourcepage\"])\n",
    "    print(doc.metadata[\"@search.score\"])\n",
    "    print(doc.page_content)\n",
    "    "
   ]
  },
  {
   "cell_type": "markdown",
   "id": "0cda9f83-1e4d-437f-82e3-515258dcce9d",
   "metadata": {},
   "source": [
    "# 2. ベクトル類似性検索"
   ]
  },
  {
   "cell_type": "markdown",
   "id": "38d47ed0-380f-4ccd-a7c4-9d4e08569a06",
   "metadata": {},
   "source": [
    "# 2.1. シンプルなベクトル検索\n",
    "「源実**友**の**お歌**にはどのような特徴があったのでしょうか？」というわざとスペルミスを入れたり和歌をお歌と言い換えたりしたクエリーで検索をかけます。`text-embeddings-ada-002` で生成したベクトルを検索すると、キーワードの一致にとらわれずに、テキストの類似性だけを見て検索しています。スペルミスも良い具合に無視されて検索されることが分かります。ほしい答えは「万葉風の歌人」という部分です。"
   ]
  },
  {
   "cell_type": "code",
   "execution_count": null,
   "id": "92f3092d-ced3-4c3e-b3ad-59c7d045585c",
   "metadata": {},
   "outputs": [],
   "source": [
    "query = \"源実友のお歌にはどのような特徴があったのでしょうか？\"  \n",
    "\n",
    "docs = vector_store.similarity_search(\n",
    "    query=query,\n",
    "    k=3,\n",
    "    search_type=\"similarity\",\n",
    ")\n",
    "\n",
    "for doc in docs:\n",
    "    print(doc.metadata[\"sourcepage\"])\n",
    "    print(doc.metadata[\"@search.score\"])\n",
    "    print(doc.page_content)"
   ]
  },
  {
   "cell_type": "markdown",
   "id": "ab2500ed-c144-48ba-adf3-a1108f7af3f7",
   "metadata": {},
   "source": [
    "## 2.1.1. 多言語能力\n",
    "`text-embeddings-ada-002` の多言語能力を確認してみましょう。日本語のドキュメントを英語で検索します。"
   ]
  },
  {
   "cell_type": "code",
   "execution_count": null,
   "id": "fc224552-6d61-4824-8cd8-6dd22b2cc6ab",
   "metadata": {
    "scrolled": true
   },
   "outputs": [],
   "source": [
    "query = \"What were the characteristics of Minamoto Sanetomo's poetry?\"  \n",
    "\n",
    "docs = vector_store.similarity_search(\n",
    "    query=query,\n",
    "    k=3,\n",
    "    search_type=\"similarity\",\n",
    ")\n",
    "\n",
    "for doc in docs:\n",
    "    print(doc.metadata[\"sourcepage\"])\n",
    "    print(doc.metadata[\"@search.score\"])\n",
    "    print(doc.page_content)"
   ]
  },
  {
   "cell_type": "markdown",
   "id": "4e0c43f9-ec15-41a7-bd36-244be63145cb",
   "metadata": {},
   "source": [
    "# 2.2. ハイブリッド検索\n",
    "ハイブリッド検索では、キーワード検索とベクトル検索の両方をクエリーとして使います。ハイブリッド検索ではどのように検索スコアを計算しているかといいますと、まずキーワード検索のスコアには Okapi BM25 アルゴリズムによるスコアを採用し、ベクトル検索ではコサイン類似度をスコアとして用いており、両者異なるスコアです。これを融合するシンプルな計算式として、[Reciprocal Rank Fusion(RRF)](https://learn.microsoft.com/azure/search/hybrid-search-ranking) が採用されています。RRF は両者の文書ランクの逆数の和を取ります。つまり、その文書の順位だけを見て、どちらのランキングでも上位にきていればスコアが高くなる仕組みです。"
   ]
  },
  {
   "cell_type": "code",
   "execution_count": null,
   "id": "2318cff5-7c4d-45d2-9252-3fac51e5eaa7",
   "metadata": {
    "scrolled": true
   },
   "outputs": [],
   "source": [
    "query = \"源実友は征夷大将軍として知られているだけでなく、ある有名な趣味も持っています。それは何ですか。\"  \n",
    "# Perform a hybrid search\n",
    "docs = vector_store.similarity_search(\n",
    "    query=query,\n",
    "    k=5,\n",
    "    search_type=\"hybrid\",\n",
    ")\n",
    "\n",
    "for doc in docs:\n",
    "    print(doc.metadata[\"sourcepage\"])\n",
    "    print(doc.metadata[\"@search.score\"])\n",
    "    print(doc.page_content)\n"
   ]
  },
  {
   "cell_type": "code",
   "execution_count": null,
   "id": "973ce3a2",
   "metadata": {},
   "outputs": [],
   "source": [
    "query = \"源実友は征夷大将軍として知られているだけでなく、ある有名な趣味も持っています。それは何ですか。\"  \n",
    "# similarity_search で search_type=\"hybrid を指定した場合と同じ\n",
    "docs = vector_store.hybrid_search(\n",
    "    query=query,\n",
    "    k=5\n",
    ")\n",
    "\n",
    "for doc in docs:\n",
    "    print(doc.metadata[\"sourcepage\"])\n",
    "    print(doc.metadata[\"@search.score\"])\n",
    "    print(doc.page_content)"
   ]
  },
  {
   "cell_type": "markdown",
   "id": "293733e4",
   "metadata": {},
   "source": [
    "# 2.3 セマンティックハイブリッド検索\n",
    "セマンティックハイブリッド検索（ハイブリッド検索＋セマンティックランカー）は Azure AI Search 独自の検索機能であり、ハイブリッド検索と検索結果を高い精度で並べ替えるリランカー機能（セマンティックランカー）を組み合わせた高度な検索方法です。リランカーは Microsoft 製の言語モデルである [Turing](https://techcommunity.microsoft.com/t5/ai-azure-ai-services-blog/introducing-multilingual-support-for-semantic-search-on-azure/ba-p/2385110) モデルに基づいています。"
   ]
  },
  {
   "cell_type": "markdown",
   "id": "ee52e091",
   "metadata": {},
   "source": [
    "<div class=\"alert alert-block alert-success\">\n",
    "<b>Note:</b> LangChain の Issues <a href=\"https://github.com/langchain-ai/langchain/issues/15355\">#15355</a> が解決するまでは、インデックスに `metadata` フィールドを含める必要があります。</div>"
   ]
  },
  {
   "cell_type": "code",
   "execution_count": null,
   "id": "2e5c78ca",
   "metadata": {
    "scrolled": true
   },
   "outputs": [],
   "source": [
    "query = \"１３人の合議制に含まれるメンバー一覧\"  \n",
    "\n",
    "docs = vector_store.semantic_hybrid_search(\n",
    "    query=query,\n",
    "    search_type=\"semantic_hybrid\",\n",
    ")\n",
    "\n",
    "for doc in docs:\n",
    "    print(doc.metadata[\"sourcepage\"])\n",
    "    print(doc.metadata[\"@search.score\"])\n",
    "    print(doc.page_content)"
   ]
  },
  {
   "cell_type": "markdown",
   "id": "3e916c2d",
   "metadata": {},
   "source": []
  }
 ],
 "metadata": {
  "kernelspec": {
   "display_name": "Python 3 (ipykernel)",
   "language": "python",
   "name": "python3"
  },
  "language_info": {
   "codemirror_mode": {
    "name": "ipython",
    "version": 3
   },
   "file_extension": ".py",
   "mimetype": "text/x-python",
   "name": "python",
   "nbconvert_exporter": "python",
   "pygments_lexer": "ipython3",
   "version": "3.10.13"
  }
 },
 "nbformat": 4,
 "nbformat_minor": 5
}
