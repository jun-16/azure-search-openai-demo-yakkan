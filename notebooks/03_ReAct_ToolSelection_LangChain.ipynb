{
 "cells": [
  {
   "cell_type": "markdown",
   "id": "eb299f82-f4b1-4f85-9195-07724f6dd4cb",
   "metadata": {},
   "source": [
    "# ReAct ToolSelection approach with Azure AI Search\n",
    "このサンプルノートブックでは ReAct を用いてツール選択の動作を試すことができます。ユーザーからの質問に対してどのような情報が欠けているのかを確認するために質問を繰り返し評価し、すべての情報がそろったところで、回答を作成することを試みます。ReAct を使用してツールの「**説明文**」のみに基づいて使用するツールを決定します。\n",
    "\n",
    "サンプルコードではツールを2つ（Azure AI Search、CSVルックアップ）使用して情報を検索しています。エージェントの処理は LangChain の **ZERO_SHOT_REACT_DESCRIPTION** エージェントで実装しています。サンプルコードは武将カフェの検索用 CSV ファイルから検索するようになっています。\n"
   ]
  },
  {
   "cell_type": "markdown",
   "id": "38c68a5b",
   "metadata": {},
   "source": [
    "# 事前準備\n",
    "この Python サンプルを実行するには、以下が必要です：\n",
    "- Azure AI Search リソース。エンドポイントとクエリ API キーが必要です。\n",
    "- Azure OpenAI Service にアクセスできる承認済み Azure サブスクリプション\n",
    "- Azure OpenAI Service への `text-embedding-ada-002` Embeddings モデルのデプロイメント。このデモでは、API バージョン `2023-05-15` を使用しています。デプロイ名はモデルと同じ「`text-embedding-ada-002`」を使用しています。\n",
    "- Azure OpenAI Service の接続とモデル情報\n",
    "  - OpenAI API キー\n",
    "  - OpenAI Embeddings モデルのデプロイメント名\n",
    "  - OpenAI API バージョン\n",
    "- Python (この手順はバージョン 3.10.x でテストされています)\n",
    "\n",
    "これらのデモには、Visual Studio Code と [Jupyter extension](https://marketplace.visualstudio.com/items?itemName=ms-toolsai.jupyter) を使用できます。"
   ]
  },
  {
   "cell_type": "markdown",
   "id": "1e7c8bef",
   "metadata": {},
   "source": [
    "## パッケージのインストール"
   ]
  },
  {
   "cell_type": "code",
   "execution_count": null,
   "id": "da1d9bbd-e2b9-451a-a872-56f19430d0e6",
   "metadata": {
    "scrolled": true
   },
   "outputs": [],
   "source": [
    "!pip install azure-search-documents==11.4.0\n",
    "!pip install openai\n",
    "!pip install langchain==0.0.350"
   ]
  },
  {
   "cell_type": "code",
   "execution_count": null,
   "id": "3c6ef945-8aa3-4538-8bf7-662c01bdf397",
   "metadata": {},
   "outputs": [],
   "source": [
    "import azure.search.documents\n",
    "print(\"azure.search.documents\", azure.search.documents.__version__)\n",
    "import langchain\n",
    "print(\"langchain\", langchain.__version__)"
   ]
  },
  {
   "cell_type": "markdown",
   "id": "524420cf",
   "metadata": {},
   "source": [
    "## 必要なライブラリと環境変数のインポート"
   ]
  },
  {
   "cell_type": "code",
   "execution_count": null,
   "id": "94c62e8d-9891-4fde-a989-9bb040e1558f",
   "metadata": {},
   "outputs": [],
   "source": [
    "import csv\n",
    "from azure.core.credentials import AzureKeyCredential  \n",
    "from azure.search.documents import SearchClient\n",
    "from azure.search.documents.models import (\n",
    "    VectorizedQuery\n",
    ")\n",
    "\n",
    "from langchain.agents import (\n",
    "    AgentType,\n",
    "    Tool,\n",
    "    initialize_agent,\n",
    ")\n",
    "from langchain.agents.mrkl import prompt\n",
    "from langchain.chat_models import AzureChatOpenAI\n",
    "#from langchain.chat_models import ChatOpenAI\n",
    "from langchain.tools import BaseTool"
   ]
  },
  {
   "cell_type": "markdown",
   "id": "8c014e02",
   "metadata": {},
   "source": [
    "## Azure AI Search 接続設定"
   ]
  },
  {
   "cell_type": "code",
   "execution_count": null,
   "id": "652d5c38-7c3d-4849-8079-6f4bcc144a2b",
   "metadata": {},
   "outputs": [],
   "source": [
    "service_endpoint: str = \"<Your search service endpoint>\"\n",
    "service_query_key: str = \"<Your search service query key>\"\n",
    "index_name: str = \"gptkbindex\" #自動構築時のデフォルト設定\n",
    "\n",
    "credential = AzureKeyCredential(service_query_key)"
   ]
  },
  {
   "cell_type": "markdown",
   "id": "502b043a-044b-458e-9626-7c4cda992103",
   "metadata": {},
   "source": [
    "## Azure OpenAI の設定"
   ]
  },
  {
   "cell_type": "code",
   "execution_count": null,
   "id": "7daa9e2f-58ba-427d-9634-2d83bff3ff8e",
   "metadata": {},
   "outputs": [],
   "source": [
    "AZURE_OPENAI_API_KEY = \"Your OpenAI API Key\"\n",
    "AZURE_OPENAI_ENDPOINT = \"https://<Your OpenAI Service>.openai.azure.com/\"\n",
    "AZURE_OPENAI_CHATGPT_DEPLOYMENT = \"chat\" #自動構築時のデフォルト設定\n",
    "AZURE_OPENAI_EMB_DEPLOYMENT=\"embedding\" #自動構築時のデフォルト設定"
   ]
  },
  {
   "cell_type": "code",
   "execution_count": null,
   "id": "6bd993d8-5d4b-4c58-a793-709f58731a95",
   "metadata": {},
   "outputs": [],
   "source": [
    "from openai import AzureOpenAI\n",
    "from tenacity import retry, wait_random_exponential, stop_after_attempt  \n",
    "\n",
    "openai_client = AzureOpenAI(\n",
    "  api_key = AZURE_OPENAI_API_KEY,  \n",
    "  api_version = \"2023-05-15\",\n",
    "  azure_endpoint = AZURE_OPENAI_ENDPOINT\n",
    ")\n",
    "\n",
    "@retry(wait=wait_random_exponential(min=1, max=20), stop=stop_after_attempt(6))\n",
    "# タイトルフィールドとコンテンツフィールドのEmbeddingsを生成する関数。\n",
    "def generate_embeddings(text, model=AZURE_OPENAI_EMB_DEPLOYMENT):\n",
    "    return openai_client.embeddings.create(input = [text], model=model).data[0].embedding"
   ]
  },
  {
   "cell_type": "markdown",
   "id": "d6e941b0",
   "metadata": {},
   "source": [
    "# 武将検索ツールの Retrieve 実装\n",
    "武将検索ツールは Azure AI Search に接続して検索した結果を返却します。"
   ]
  },
  {
   "cell_type": "code",
   "execution_count": null,
   "id": "07852f0e-1944-4024-a56d-11b7fb52ac4f",
   "metadata": {},
   "outputs": [],
   "source": [
    "def retrieve(query_text: str):\n",
    "    search_client = SearchClient(service_endpoint, index_name, credential=credential)\n",
    "    docs = search_client.search(\n",
    "        search_text=query_text,\n",
    "        filter=None,\n",
    "        top=3,\n",
    "        vector_queries=[VectorizedQuery(vector=generate_embeddings(query_text), k_nearest_neighbors=3, fields=\"embedding\")]\n",
    "    )\n",
    "    results =[doc['sourcepage'] + \": \" + nonewlines(doc['content']) for doc in docs]\n",
    "    content = \"\\n\".join(results)\n",
    "    return content\n",
    "    \n",
    "def nonewlines(s: str) -> str:\n",
    "    return s.replace('\\n', ' ').replace('\\r', ' ').replace('[', '【').replace(']', '】')"
   ]
  },
  {
   "cell_type": "markdown",
   "id": "109977a9",
   "metadata": {},
   "source": [
    "# カフェ検索ツールの定義\n",
    "カフェ検索ツールは、CSV ルックアップを使用してクエリに該当するカフェの情報を返却します。"
   ]
  },
  {
   "cell_type": "code",
   "execution_count": null,
   "id": "ad12a08f-5d60-4352-94a3-78814759edff",
   "metadata": {},
   "outputs": [],
   "source": [
    "class CafeSearchTool(BaseTool):\n",
    "    data: dict[str, str] = {}\n",
    "    name = \"CafeSearchTool\"\n",
    "    description = \"武将のゆかりのカフェを検索するのに便利です。カフェの検索クエリには、武将の**名前のみ**を入力してください。\"\n",
    "\n",
    "    # Use the tool synchronously.\n",
    "    def _run(self, query: str) -> str:\n",
    "        filename = \"data/restaurantinfo.csv\"\n",
    "        key_field = \"name\"\n",
    "        try:\n",
    "            with open(filename, newline='', encoding='utf-8') as csvfile:\n",
    "                reader = csv.DictReader(csvfile)\n",
    "                for row in reader:\n",
    "                    self.data[row[key_field]] =  \"\\n\".join([f\"{i}:{row[i]}\" for i in row])\n",
    "\n",
    "        except Exception as e:\n",
    "            print(\"File read error:\", e)\n",
    "\n",
    "        return self.data.get(query, \"\")"
   ]
  },
  {
   "cell_type": "markdown",
   "id": "a96f77f7",
   "metadata": {},
   "source": [
    "# Tool の定義\n",
    "使用するツールは以下の2つで、それぞれ異なる2種類の記法を使って記述しています。\n",
    "- 武将検索ツール: Tool dataclass 法を使って tools の中に直接記述。\n",
    "- カフェ検索ツール: BaseTool クラスのサブクラスとして `CafeSearchTool` を定義"
   ]
  },
  {
   "cell_type": "code",
   "execution_count": null,
   "id": "07257ea6-b85f-4dcd-b02b-1dd8bd039b87",
   "metadata": {},
   "outputs": [],
   "source": [
    "# Tool dataclass 法と Subclassing the BaseTool class 法の異なる記法を示しています\n",
    "tools = [\n",
    "    Tool(name=\"PeopleSearchTool\",\n",
    "        func=retrieve,\n",
    "        coroutine=retrieve,\n",
    "        description=\"日本の歴史の人物情報の検索に便利です。ユーザーの質問から検索クエリーを生成して検索します。クエリーは文字列のみを受け付けます\"\n",
    "        ),\n",
    "    CafeSearchTool()\n",
    "]"
   ]
  },
  {
   "cell_type": "markdown",
   "id": "def3eb45",
   "metadata": {},
   "source": [
    "# LLM の定義"
   ]
  },
  {
   "cell_type": "code",
   "execution_count": null,
   "id": "0faa34ce-b96c-456a-a88a-f05d67778091",
   "metadata": {},
   "outputs": [],
   "source": [
    "llm = AzureChatOpenAI(\n",
    "    azure_deployment=AZURE_OPENAI_CHATGPT_DEPLOYMENT,\n",
    "    api_version=\"2023-07-01-preview\",\n",
    "    azure_endpoint=AZURE_OPENAI_ENDPOINT,\n",
    "    openai_api_key=AZURE_OPENAI_API_KEY,\n",
    "    #azure_ad_token_provider=self.openai_ad_token,\n",
    "    temperature=0.0,\n",
    ")"
   ]
  },
  {
   "cell_type": "code",
   "execution_count": null,
   "id": "7095879b-90dd-4339-990c-11d5ca547aee",
   "metadata": {},
   "outputs": [],
   "source": [
    "q = \"鎌倉幕府第二代征夷大将軍の名前とその将軍にゆかりの地にあるカフェの名前を教えて\""
   ]
  },
  {
   "cell_type": "markdown",
   "id": "d78c9ca5",
   "metadata": {},
   "source": [
    "# Agent の定義と実行"
   ]
  },
  {
   "cell_type": "code",
   "execution_count": null,
   "id": "c6d563d8-a667-4050-88ab-3773c38cd71e",
   "metadata": {},
   "outputs": [],
   "source": [
    "SUFFIX = \"\"\"\n",
    "Answer should be in Japanese.\n",
    "\"\"\"\n",
    "agent_chain = initialize_agent(\n",
    "    tools,\n",
    "    llm,\n",
    "    agent=AgentType.ZERO_SHOT_REACT_DESCRIPTION,\n",
    "    #agent=AgentType.OPENAI_FUNCTIONS,\n",
    "    verbose=True,\n",
    "    agent_kwargs=dict(suffix=SUFFIX + prompt.SUFFIX),\n",
    "    handle_parsing_errors=True,\n",
    "    max_iterations=5,\n",
    "    early_stopping_method=\"generate\",\n",
    ")\n",
    "\n",
    "result = agent_chain.run(q)\n",
    "result"
   ]
  }
 ],
 "metadata": {
  "kernelspec": {
   "display_name": "Python 3 (ipykernel)",
   "language": "python",
   "name": "python3"
  },
  "language_info": {
   "codemirror_mode": {
    "name": "ipython",
    "version": 3
   },
   "file_extension": ".py",
   "mimetype": "text/x-python",
   "name": "python",
   "nbconvert_exporter": "python",
   "pygments_lexer": "ipython3",
   "version": "3.10.13"
  }
 },
 "nbformat": 4,
 "nbformat_minor": 5
}
